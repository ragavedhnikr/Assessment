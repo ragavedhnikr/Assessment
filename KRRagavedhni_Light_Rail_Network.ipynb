{
 "cells": [
  {
   "cell_type": "markdown",
   "id": "35166889",
   "metadata": {},
   "source": [
    "# Importing Libraries"
   ]
  },
  {
   "cell_type": "code",
   "execution_count": 86,
   "id": "b388d16e",
   "metadata": {
    "ExecuteTime": {
     "end_time": "2022-09-26T02:59:30.666536Z",
     "start_time": "2022-09-26T02:59:30.649536Z"
    }
   },
   "outputs": [],
   "source": [
    "import numpy as np\n",
    "import pandas as pd\n",
    "import matplotlib.pyplot as plt\n",
    "import seaborn as sns\n",
    "from datetime import datetime\n",
    "from datetime import timedelta\n",
    "from sklearn.metrics import mean_absolute_error,r2_score,mean_squared_error,mean_absolute_percentage_error\n",
    "from sklearn.ensemble import RandomForestRegressor, GradientBoostingRegressor\n",
    "import xgboost as xgb\n",
    "from lightgbm import LGBMRegressor\n",
    "import optuna\n",
    "from sklearn.model_selection import ShuffleSplit\n",
    "from sklearn.model_selection import GridSearchCV\n",
    "from sklearn.model_selection import cross_val_score\n",
    "%matplotlib inline\n",
    "import warnings\n",
    "warnings.filterwarnings(\"ignore\")"
   ]
  },
  {
   "cell_type": "markdown",
   "id": "f3a766c0",
   "metadata": {},
   "source": [
    "# Reading data"
   ]
  },
  {
   "cell_type": "code",
   "execution_count": 2,
   "id": "95439336",
   "metadata": {
    "ExecuteTime": {
     "end_time": "2022-09-25T19:24:32.394505Z",
     "start_time": "2022-09-25T19:24:32.369401Z"
    }
   },
   "outputs": [
    {
     "data": {
      "text/html": [
       "<div>\n",
       "<style scoped>\n",
       "    .dataframe tbody tr th:only-of-type {\n",
       "        vertical-align: middle;\n",
       "    }\n",
       "\n",
       "    .dataframe tbody tr th {\n",
       "        vertical-align: top;\n",
       "    }\n",
       "\n",
       "    .dataframe thead th {\n",
       "        text-align: right;\n",
       "    }\n",
       "</style>\n",
       "<table border=\"1\" class=\"dataframe\">\n",
       "  <thead>\n",
       "    <tr style=\"text-align: right;\">\n",
       "      <th></th>\n",
       "      <th>Date</th>\n",
       "      <th>MyWay</th>\n",
       "      <th>Paper Ticket</th>\n",
       "      <th>Total</th>\n",
       "    </tr>\n",
       "  </thead>\n",
       "  <tbody>\n",
       "    <tr>\n",
       "      <th>0</th>\n",
       "      <td>08/01/2021</td>\n",
       "      <td>7,926</td>\n",
       "      <td>427</td>\n",
       "      <td>8,353</td>\n",
       "    </tr>\n",
       "    <tr>\n",
       "      <th>1</th>\n",
       "      <td>17/04/2021</td>\n",
       "      <td>5,438</td>\n",
       "      <td>591</td>\n",
       "      <td>6,029</td>\n",
       "    </tr>\n",
       "    <tr>\n",
       "      <th>2</th>\n",
       "      <td>09/01/2021</td>\n",
       "      <td>4,647</td>\n",
       "      <td>391</td>\n",
       "      <td>5,038</td>\n",
       "    </tr>\n",
       "    <tr>\n",
       "      <th>3</th>\n",
       "      <td>14/09/2020</td>\n",
       "      <td>8,156</td>\n",
       "      <td>203</td>\n",
       "      <td>8,359</td>\n",
       "    </tr>\n",
       "    <tr>\n",
       "      <th>4</th>\n",
       "      <td>06/06/2022</td>\n",
       "      <td>9,751</td>\n",
       "      <td>328</td>\n",
       "      <td>10,079</td>\n",
       "    </tr>\n",
       "  </tbody>\n",
       "</table>\n",
       "</div>"
      ],
      "text/plain": [
       "         Date  MyWay Paper Ticket   Total\n",
       "0  08/01/2021  7,926          427   8,353\n",
       "1  17/04/2021  5,438          591   6,029\n",
       "2  09/01/2021  4,647          391   5,038\n",
       "3  14/09/2020  8,156          203   8,359\n",
       "4  06/06/2022  9,751          328  10,079"
      ]
     },
     "execution_count": 2,
     "metadata": {},
     "output_type": "execute_result"
    }
   ],
   "source": [
    "df = pd.read_csv(\"Light_Rail_Patronage.csv\")\n",
    "df.head()"
   ]
  },
  {
   "cell_type": "markdown",
   "id": "0773a731",
   "metadata": {},
   "source": [
    "# Data Preprocessing"
   ]
  },
  {
   "cell_type": "markdown",
   "id": "ec30e795",
   "metadata": {},
   "source": [
    "## Rename columns"
   ]
  },
  {
   "cell_type": "code",
   "execution_count": 3,
   "id": "1745eb00",
   "metadata": {
    "ExecuteTime": {
     "end_time": "2022-09-25T19:24:32.403847Z",
     "start_time": "2022-09-25T19:24:32.396660Z"
    }
   },
   "outputs": [],
   "source": [
    "df.rename(columns={'Date':'date','MyWay':'my_way','Paper Ticket':'paper_ticket','Total':'total'}, inplace=True)"
   ]
  },
  {
   "cell_type": "code",
   "execution_count": 4,
   "id": "6c6a0c7b",
   "metadata": {
    "ExecuteTime": {
     "end_time": "2022-09-25T19:24:32.426252Z",
     "start_time": "2022-09-25T19:24:32.406237Z"
    }
   },
   "outputs": [
    {
     "data": {
      "text/html": [
       "<div>\n",
       "<style scoped>\n",
       "    .dataframe tbody tr th:only-of-type {\n",
       "        vertical-align: middle;\n",
       "    }\n",
       "\n",
       "    .dataframe tbody tr th {\n",
       "        vertical-align: top;\n",
       "    }\n",
       "\n",
       "    .dataframe thead th {\n",
       "        text-align: right;\n",
       "    }\n",
       "</style>\n",
       "<table border=\"1\" class=\"dataframe\">\n",
       "  <thead>\n",
       "    <tr style=\"text-align: right;\">\n",
       "      <th></th>\n",
       "      <th>date</th>\n",
       "      <th>my_way</th>\n",
       "      <th>paper_ticket</th>\n",
       "      <th>total</th>\n",
       "    </tr>\n",
       "  </thead>\n",
       "  <tbody>\n",
       "    <tr>\n",
       "      <th>1238</th>\n",
       "      <td>14/09/2022</td>\n",
       "      <td>11,551</td>\n",
       "      <td>391</td>\n",
       "      <td>11,942</td>\n",
       "    </tr>\n",
       "    <tr>\n",
       "      <th>1239</th>\n",
       "      <td>03/09/2022</td>\n",
       "      <td>5,942</td>\n",
       "      <td>539</td>\n",
       "      <td>6,481</td>\n",
       "    </tr>\n",
       "    <tr>\n",
       "      <th>1240</th>\n",
       "      <td>15/09/2022</td>\n",
       "      <td>10,619</td>\n",
       "      <td>392</td>\n",
       "      <td>11,011</td>\n",
       "    </tr>\n",
       "    <tr>\n",
       "      <th>1241</th>\n",
       "      <td>16/09/2022</td>\n",
       "      <td>11,324</td>\n",
       "      <td>524</td>\n",
       "      <td>11,848</td>\n",
       "    </tr>\n",
       "    <tr>\n",
       "      <th>1242</th>\n",
       "      <td>17/09/2022</td>\n",
       "      <td>5,918</td>\n",
       "      <td>439</td>\n",
       "      <td>6,357</td>\n",
       "    </tr>\n",
       "  </tbody>\n",
       "</table>\n",
       "</div>"
      ],
      "text/plain": [
       "            date  my_way paper_ticket   total\n",
       "1238  14/09/2022  11,551          391  11,942\n",
       "1239  03/09/2022   5,942          539   6,481\n",
       "1240  15/09/2022  10,619          392  11,011\n",
       "1241  16/09/2022  11,324          524  11,848\n",
       "1242  17/09/2022   5,918          439   6,357"
      ]
     },
     "execution_count": 4,
     "metadata": {},
     "output_type": "execute_result"
    }
   ],
   "source": [
    "df.tail()"
   ]
  },
  {
   "cell_type": "markdown",
   "id": "d062d05a",
   "metadata": {},
   "source": [
    "## Removing all special characters, punctuation and spaces"
   ]
  },
  {
   "cell_type": "code",
   "execution_count": 5,
   "id": "b9a3b198",
   "metadata": {
    "ExecuteTime": {
     "end_time": "2022-09-25T19:24:32.445230Z",
     "start_time": "2022-09-25T19:24:32.428442Z"
    }
   },
   "outputs": [],
   "source": [
    "df['my_way'] = df['my_way'].apply(lambda x: ''.join(e for e in x if e.isalnum()))"
   ]
  },
  {
   "cell_type": "code",
   "execution_count": 6,
   "id": "078e17a5",
   "metadata": {
    "ExecuteTime": {
     "end_time": "2022-09-25T19:24:32.464904Z",
     "start_time": "2022-09-25T19:24:32.447331Z"
    }
   },
   "outputs": [],
   "source": [
    "df['total'] = df['total'].apply(lambda x: ''.join(e for e in x if e.isalnum()))"
   ]
  },
  {
   "cell_type": "code",
   "execution_count": 7,
   "id": "629d0229",
   "metadata": {
    "ExecuteTime": {
     "end_time": "2022-09-25T19:24:32.475007Z",
     "start_time": "2022-09-25T19:24:32.467918Z"
    }
   },
   "outputs": [],
   "source": [
    "df['paper_ticket'] = df['paper_ticket'].apply(lambda x: ''.join(e for e in x if e.isalnum()))"
   ]
  },
  {
   "cell_type": "code",
   "execution_count": 8,
   "id": "a378c658",
   "metadata": {
    "ExecuteTime": {
     "end_time": "2022-09-25T19:24:32.500108Z",
     "start_time": "2022-09-25T19:24:32.480552Z"
    }
   },
   "outputs": [
    {
     "data": {
      "text/html": [
       "<div>\n",
       "<style scoped>\n",
       "    .dataframe tbody tr th:only-of-type {\n",
       "        vertical-align: middle;\n",
       "    }\n",
       "\n",
       "    .dataframe tbody tr th {\n",
       "        vertical-align: top;\n",
       "    }\n",
       "\n",
       "    .dataframe thead th {\n",
       "        text-align: right;\n",
       "    }\n",
       "</style>\n",
       "<table border=\"1\" class=\"dataframe\">\n",
       "  <thead>\n",
       "    <tr style=\"text-align: right;\">\n",
       "      <th></th>\n",
       "      <th>date</th>\n",
       "      <th>my_way</th>\n",
       "      <th>paper_ticket</th>\n",
       "      <th>total</th>\n",
       "    </tr>\n",
       "  </thead>\n",
       "  <tbody>\n",
       "    <tr>\n",
       "      <th>0</th>\n",
       "      <td>08/01/2021</td>\n",
       "      <td>7926</td>\n",
       "      <td>427</td>\n",
       "      <td>8353</td>\n",
       "    </tr>\n",
       "    <tr>\n",
       "      <th>1</th>\n",
       "      <td>17/04/2021</td>\n",
       "      <td>5438</td>\n",
       "      <td>591</td>\n",
       "      <td>6029</td>\n",
       "    </tr>\n",
       "    <tr>\n",
       "      <th>2</th>\n",
       "      <td>09/01/2021</td>\n",
       "      <td>4647</td>\n",
       "      <td>391</td>\n",
       "      <td>5038</td>\n",
       "    </tr>\n",
       "    <tr>\n",
       "      <th>3</th>\n",
       "      <td>14/09/2020</td>\n",
       "      <td>8156</td>\n",
       "      <td>203</td>\n",
       "      <td>8359</td>\n",
       "    </tr>\n",
       "    <tr>\n",
       "      <th>4</th>\n",
       "      <td>06/06/2022</td>\n",
       "      <td>9751</td>\n",
       "      <td>328</td>\n",
       "      <td>10079</td>\n",
       "    </tr>\n",
       "  </tbody>\n",
       "</table>\n",
       "</div>"
      ],
      "text/plain": [
       "         date my_way paper_ticket  total\n",
       "0  08/01/2021   7926          427   8353\n",
       "1  17/04/2021   5438          591   6029\n",
       "2  09/01/2021   4647          391   5038\n",
       "3  14/09/2020   8156          203   8359\n",
       "4  06/06/2022   9751          328  10079"
      ]
     },
     "execution_count": 8,
     "metadata": {},
     "output_type": "execute_result"
    }
   ],
   "source": [
    "df.head()"
   ]
  },
  {
   "cell_type": "markdown",
   "id": "6accb943",
   "metadata": {},
   "source": [
    "## Changing the datatype"
   ]
  },
  {
   "cell_type": "code",
   "execution_count": 9,
   "id": "7734b397",
   "metadata": {
    "ExecuteTime": {
     "end_time": "2022-09-25T19:24:32.523355Z",
     "start_time": "2022-09-25T19:24:32.502167Z"
    }
   },
   "outputs": [
    {
     "name": "stdout",
     "output_type": "stream",
     "text": [
      "<class 'pandas.core.frame.DataFrame'>\n",
      "RangeIndex: 1243 entries, 0 to 1242\n",
      "Data columns (total 4 columns):\n",
      " #   Column        Non-Null Count  Dtype \n",
      "---  ------        --------------  ----- \n",
      " 0   date          1243 non-null   object\n",
      " 1   my_way        1243 non-null   object\n",
      " 2   paper_ticket  1243 non-null   object\n",
      " 3   total         1243 non-null   object\n",
      "dtypes: object(4)\n",
      "memory usage: 39.0+ KB\n"
     ]
    }
   ],
   "source": [
    "df.info()"
   ]
  },
  {
   "cell_type": "code",
   "execution_count": 10,
   "id": "81f60c1a",
   "metadata": {
    "ExecuteTime": {
     "end_time": "2022-09-25T19:24:32.556775Z",
     "start_time": "2022-09-25T19:24:32.526290Z"
    }
   },
   "outputs": [],
   "source": [
    "df['date']= df['date'].apply(lambda x: datetime.strptime(x, '%d/%m/%Y'))"
   ]
  },
  {
   "cell_type": "code",
   "execution_count": 11,
   "id": "5bdbacbd",
   "metadata": {
    "ExecuteTime": {
     "end_time": "2022-09-25T19:24:32.571745Z",
     "start_time": "2022-09-25T19:24:32.559324Z"
    }
   },
   "outputs": [],
   "source": [
    "df['my_way'] = df['my_way'].astype('int')\n",
    "df['paper_ticket'] = df['paper_ticket'].astype('int')\n",
    "df['total'] = df['total'].astype('int')"
   ]
  },
  {
   "cell_type": "code",
   "execution_count": 12,
   "id": "adcd5c0a",
   "metadata": {
    "ExecuteTime": {
     "end_time": "2022-09-25T19:24:32.596812Z",
     "start_time": "2022-09-25T19:24:32.573747Z"
    }
   },
   "outputs": [
    {
     "name": "stdout",
     "output_type": "stream",
     "text": [
      "<class 'pandas.core.frame.DataFrame'>\n",
      "RangeIndex: 1243 entries, 0 to 1242\n",
      "Data columns (total 4 columns):\n",
      " #   Column        Non-Null Count  Dtype         \n",
      "---  ------        --------------  -----         \n",
      " 0   date          1243 non-null   datetime64[ns]\n",
      " 1   my_way        1243 non-null   int32         \n",
      " 2   paper_ticket  1243 non-null   int32         \n",
      " 3   total         1243 non-null   int32         \n",
      "dtypes: datetime64[ns](1), int32(3)\n",
      "memory usage: 24.4 KB\n"
     ]
    }
   ],
   "source": [
    "df.info()"
   ]
  },
  {
   "cell_type": "code",
   "execution_count": 13,
   "id": "405a6973",
   "metadata": {
    "ExecuteTime": {
     "end_time": "2022-09-25T19:24:32.612344Z",
     "start_time": "2022-09-25T19:24:32.599431Z"
    }
   },
   "outputs": [
    {
     "data": {
      "text/html": [
       "<div>\n",
       "<style scoped>\n",
       "    .dataframe tbody tr th:only-of-type {\n",
       "        vertical-align: middle;\n",
       "    }\n",
       "\n",
       "    .dataframe tbody tr th {\n",
       "        vertical-align: top;\n",
       "    }\n",
       "\n",
       "    .dataframe thead th {\n",
       "        text-align: right;\n",
       "    }\n",
       "</style>\n",
       "<table border=\"1\" class=\"dataframe\">\n",
       "  <thead>\n",
       "    <tr style=\"text-align: right;\">\n",
       "      <th></th>\n",
       "      <th>date</th>\n",
       "      <th>my_way</th>\n",
       "      <th>paper_ticket</th>\n",
       "      <th>total</th>\n",
       "    </tr>\n",
       "  </thead>\n",
       "  <tbody>\n",
       "    <tr>\n",
       "      <th>0</th>\n",
       "      <td>2021-01-08</td>\n",
       "      <td>7926</td>\n",
       "      <td>427</td>\n",
       "      <td>8353</td>\n",
       "    </tr>\n",
       "    <tr>\n",
       "      <th>1</th>\n",
       "      <td>2021-04-17</td>\n",
       "      <td>5438</td>\n",
       "      <td>591</td>\n",
       "      <td>6029</td>\n",
       "    </tr>\n",
       "    <tr>\n",
       "      <th>2</th>\n",
       "      <td>2021-01-09</td>\n",
       "      <td>4647</td>\n",
       "      <td>391</td>\n",
       "      <td>5038</td>\n",
       "    </tr>\n",
       "    <tr>\n",
       "      <th>3</th>\n",
       "      <td>2020-09-14</td>\n",
       "      <td>8156</td>\n",
       "      <td>203</td>\n",
       "      <td>8359</td>\n",
       "    </tr>\n",
       "    <tr>\n",
       "      <th>4</th>\n",
       "      <td>2022-06-06</td>\n",
       "      <td>9751</td>\n",
       "      <td>328</td>\n",
       "      <td>10079</td>\n",
       "    </tr>\n",
       "  </tbody>\n",
       "</table>\n",
       "</div>"
      ],
      "text/plain": [
       "        date  my_way  paper_ticket  total\n",
       "0 2021-01-08    7926           427   8353\n",
       "1 2021-04-17    5438           591   6029\n",
       "2 2021-01-09    4647           391   5038\n",
       "3 2020-09-14    8156           203   8359\n",
       "4 2022-06-06    9751           328  10079"
      ]
     },
     "execution_count": 13,
     "metadata": {},
     "output_type": "execute_result"
    }
   ],
   "source": [
    "df.head()"
   ]
  },
  {
   "cell_type": "markdown",
   "id": "4358de3f",
   "metadata": {},
   "source": [
    "## Sorting the dataframe by date column"
   ]
  },
  {
   "cell_type": "code",
   "execution_count": 14,
   "id": "0f1124ed",
   "metadata": {
    "ExecuteTime": {
     "end_time": "2022-09-25T19:24:32.631510Z",
     "start_time": "2022-09-25T19:24:32.615372Z"
    }
   },
   "outputs": [
    {
     "data": {
      "text/html": [
       "<div>\n",
       "<style scoped>\n",
       "    .dataframe tbody tr th:only-of-type {\n",
       "        vertical-align: middle;\n",
       "    }\n",
       "\n",
       "    .dataframe tbody tr th {\n",
       "        vertical-align: top;\n",
       "    }\n",
       "\n",
       "    .dataframe thead th {\n",
       "        text-align: right;\n",
       "    }\n",
       "</style>\n",
       "<table border=\"1\" class=\"dataframe\">\n",
       "  <thead>\n",
       "    <tr style=\"text-align: right;\">\n",
       "      <th></th>\n",
       "      <th>index</th>\n",
       "      <th>date</th>\n",
       "      <th>my_way</th>\n",
       "      <th>paper_ticket</th>\n",
       "      <th>total</th>\n",
       "    </tr>\n",
       "  </thead>\n",
       "  <tbody>\n",
       "    <tr>\n",
       "      <th>0</th>\n",
       "      <td>464</td>\n",
       "      <td>2019-04-22</td>\n",
       "      <td>4075</td>\n",
       "      <td>1418</td>\n",
       "      <td>5493</td>\n",
       "    </tr>\n",
       "    <tr>\n",
       "      <th>1</th>\n",
       "      <td>555</td>\n",
       "      <td>2019-04-23</td>\n",
       "      <td>8134</td>\n",
       "      <td>1018</td>\n",
       "      <td>9152</td>\n",
       "    </tr>\n",
       "    <tr>\n",
       "      <th>2</th>\n",
       "      <td>705</td>\n",
       "      <td>2019-04-24</td>\n",
       "      <td>9518</td>\n",
       "      <td>1147</td>\n",
       "      <td>10665</td>\n",
       "    </tr>\n",
       "    <tr>\n",
       "      <th>3</th>\n",
       "      <td>985</td>\n",
       "      <td>2019-04-25</td>\n",
       "      <td>4866</td>\n",
       "      <td>1313</td>\n",
       "      <td>6179</td>\n",
       "    </tr>\n",
       "    <tr>\n",
       "      <th>4</th>\n",
       "      <td>1025</td>\n",
       "      <td>2019-04-26</td>\n",
       "      <td>9074</td>\n",
       "      <td>1143</td>\n",
       "      <td>10217</td>\n",
       "    </tr>\n",
       "  </tbody>\n",
       "</table>\n",
       "</div>"
      ],
      "text/plain": [
       "   index       date  my_way  paper_ticket  total\n",
       "0    464 2019-04-22    4075          1418   5493\n",
       "1    555 2019-04-23    8134          1018   9152\n",
       "2    705 2019-04-24    9518          1147  10665\n",
       "3    985 2019-04-25    4866          1313   6179\n",
       "4   1025 2019-04-26    9074          1143  10217"
      ]
     },
     "execution_count": 14,
     "metadata": {},
     "output_type": "execute_result"
    }
   ],
   "source": [
    "df=df.sort_values(by='date').reset_index()\n",
    "df.head()"
   ]
  },
  {
   "cell_type": "markdown",
   "id": "e1b29130",
   "metadata": {},
   "source": [
    "## Checking duplicate rows"
   ]
  },
  {
   "cell_type": "code",
   "execution_count": 15,
   "id": "1b50dca1",
   "metadata": {
    "ExecuteTime": {
     "end_time": "2022-09-25T19:24:32.645096Z",
     "start_time": "2022-09-25T19:24:32.634014Z"
    }
   },
   "outputs": [
    {
     "data": {
      "text/plain": [
       "0"
      ]
     },
     "execution_count": 15,
     "metadata": {},
     "output_type": "execute_result"
    }
   ],
   "source": [
    "df.duplicated().sum()"
   ]
  },
  {
   "cell_type": "markdown",
   "id": "b45e3116",
   "metadata": {},
   "source": [
    "## Checking missing rows"
   ]
  },
  {
   "cell_type": "code",
   "execution_count": 16,
   "id": "228b1e25",
   "metadata": {
    "ExecuteTime": {
     "end_time": "2022-09-25T19:24:32.669335Z",
     "start_time": "2022-09-25T19:24:32.647254Z"
    }
   },
   "outputs": [
    {
     "data": {
      "text/plain": [
       "index           0\n",
       "date            0\n",
       "my_way          0\n",
       "paper_ticket    0\n",
       "total           0\n",
       "dtype: int64"
      ]
     },
     "execution_count": 16,
     "metadata": {},
     "output_type": "execute_result"
    }
   ],
   "source": [
    "df.isnull().sum()"
   ]
  },
  {
   "cell_type": "markdown",
   "id": "8a9a60df",
   "metadata": {},
   "source": [
    "# Data Exploration "
   ]
  },
  {
   "cell_type": "code",
   "execution_count": 17,
   "id": "e07bbe54",
   "metadata": {
    "ExecuteTime": {
     "end_time": "2022-09-25T19:24:32.988739Z",
     "start_time": "2022-09-25T19:24:32.671511Z"
    }
   },
   "outputs": [
    {
     "data": {
      "text/plain": [
       "<AxesSubplot:>"
      ]
     },
     "execution_count": 17,
     "metadata": {},
     "output_type": "execute_result"
    },
    {
     "data": {
      "image/png": "[encoded data removed]",
      "text/plain": [
       "<Figure size 864x504 with 2 Axes>"
      ]
     },
     "metadata": {
      "needs_background": "light"
     },
     "output_type": "display_data"
    }
   ],
   "source": [
    "plt.figure(figsize=(12,7))\n",
    "sns.heatmap(df.corr(),annot=True)"
   ]
  },
  {
   "cell_type": "code",
   "execution_count": 18,
   "id": "04d7a58e",
   "metadata": {
    "ExecuteTime": {
     "end_time": "2022-09-25T19:24:33.899435Z",
     "start_time": "2022-09-25T19:24:32.990742Z"
    }
   },
   "outputs": [
    {
     "data": {
      "text/plain": [
       "array([<AxesSubplot:xlabel='date'>, <AxesSubplot:xlabel='date'>,\n",
       "       <AxesSubplot:xlabel='date'>], dtype=object)"
      ]
     },
     "execution_count": 18,
     "metadata": {},
     "output_type": "execute_result"
    },
    {
     "data": {
      "image/png": "[encoded data removed]",
      "text/plain": [
       "<Figure size 1080x720 with 3 Axes>"
      ]
     },
     "metadata": {
      "needs_background": "light"
     },
     "output_type": "display_data"
    }
   ],
   "source": [
    "df.set_index('date')[['my_way','paper_ticket','total']].plot(subplots=True,figsize=(15,10))"
   ]
  },
  {
   "cell_type": "markdown",
   "id": "8c308f9a",
   "metadata": {},
   "source": [
    "## Getting day of week, month, year from date column"
   ]
  },
  {
   "cell_type": "code",
   "execution_count": 19,
   "id": "80205e8f",
   "metadata": {
    "ExecuteTime": {
     "end_time": "2022-09-25T19:24:33.911034Z",
     "start_time": "2022-09-25T19:24:33.901500Z"
    }
   },
   "outputs": [],
   "source": [
    "df['month'] = df['date'].dt.month\n",
    "df['year'] = df['date'].dt.year\n",
    "df['weekday'] = df['date'].dt.day_name()"
   ]
  },
  {
   "cell_type": "code",
   "execution_count": 20,
   "id": "0eaba21e",
   "metadata": {
    "ExecuteTime": {
     "end_time": "2022-09-25T19:24:33.935808Z",
     "start_time": "2022-09-25T19:24:33.913391Z"
    }
   },
   "outputs": [
    {
     "data": {
      "text/html": [
       "<div>\n",
       "<style scoped>\n",
       "    .dataframe tbody tr th:only-of-type {\n",
       "        vertical-align: middle;\n",
       "    }\n",
       "\n",
       "    .dataframe tbody tr th {\n",
       "        vertical-align: top;\n",
       "    }\n",
       "\n",
       "    .dataframe thead th {\n",
       "        text-align: right;\n",
       "    }\n",
       "</style>\n",
       "<table border=\"1\" class=\"dataframe\">\n",
       "  <thead>\n",
       "    <tr style=\"text-align: right;\">\n",
       "      <th></th>\n",
       "      <th>index</th>\n",
       "      <th>date</th>\n",
       "      <th>my_way</th>\n",
       "      <th>paper_ticket</th>\n",
       "      <th>total</th>\n",
       "      <th>month</th>\n",
       "      <th>year</th>\n",
       "      <th>weekday</th>\n",
       "    </tr>\n",
       "  </thead>\n",
       "  <tbody>\n",
       "    <tr>\n",
       "      <th>0</th>\n",
       "      <td>464</td>\n",
       "      <td>2019-04-22</td>\n",
       "      <td>4075</td>\n",
       "      <td>1418</td>\n",
       "      <td>5493</td>\n",
       "      <td>4</td>\n",
       "      <td>2019</td>\n",
       "      <td>Monday</td>\n",
       "    </tr>\n",
       "    <tr>\n",
       "      <th>1</th>\n",
       "      <td>555</td>\n",
       "      <td>2019-04-23</td>\n",
       "      <td>8134</td>\n",
       "      <td>1018</td>\n",
       "      <td>9152</td>\n",
       "      <td>4</td>\n",
       "      <td>2019</td>\n",
       "      <td>Tuesday</td>\n",
       "    </tr>\n",
       "    <tr>\n",
       "      <th>2</th>\n",
       "      <td>705</td>\n",
       "      <td>2019-04-24</td>\n",
       "      <td>9518</td>\n",
       "      <td>1147</td>\n",
       "      <td>10665</td>\n",
       "      <td>4</td>\n",
       "      <td>2019</td>\n",
       "      <td>Wednesday</td>\n",
       "    </tr>\n",
       "    <tr>\n",
       "      <th>3</th>\n",
       "      <td>985</td>\n",
       "      <td>2019-04-25</td>\n",
       "      <td>4866</td>\n",
       "      <td>1313</td>\n",
       "      <td>6179</td>\n",
       "      <td>4</td>\n",
       "      <td>2019</td>\n",
       "      <td>Thursday</td>\n",
       "    </tr>\n",
       "    <tr>\n",
       "      <th>4</th>\n",
       "      <td>1025</td>\n",
       "      <td>2019-04-26</td>\n",
       "      <td>9074</td>\n",
       "      <td>1143</td>\n",
       "      <td>10217</td>\n",
       "      <td>4</td>\n",
       "      <td>2019</td>\n",
       "      <td>Friday</td>\n",
       "    </tr>\n",
       "  </tbody>\n",
       "</table>\n",
       "</div>"
      ],
      "text/plain": [
       "   index       date  my_way  paper_ticket  total  month  year    weekday\n",
       "0    464 2019-04-22    4075          1418   5493      4  2019     Monday\n",
       "1    555 2019-04-23    8134          1018   9152      4  2019    Tuesday\n",
       "2    705 2019-04-24    9518          1147  10665      4  2019  Wednesday\n",
       "3    985 2019-04-25    4866          1313   6179      4  2019   Thursday\n",
       "4   1025 2019-04-26    9074          1143  10217      4  2019     Friday"
      ]
     },
     "execution_count": 20,
     "metadata": {},
     "output_type": "execute_result"
    }
   ],
   "source": [
    "df.head()"
   ]
  },
  {
   "cell_type": "markdown",
   "id": "20b4a42b",
   "metadata": {},
   "source": [
    "## Weekly Boxplot"
   ]
  },
  {
   "cell_type": "code",
   "execution_count": 21,
   "id": "f45dc9da",
   "metadata": {
    "ExecuteTime": {
     "end_time": "2022-09-25T19:24:34.181375Z",
     "start_time": "2022-09-25T19:24:33.936807Z"
    }
   },
   "outputs": [
    {
     "data": {
      "image/png": "[encoded data removed]",
      "text/plain": [
       "<Figure size 864x504 with 1 Axes>"
      ]
     },
     "metadata": {
      "needs_background": "light"
     },
     "output_type": "display_data"
    }
   ],
   "source": [
    "plt.figure(figsize=(12,7))\n",
    "plot = sns.boxplot(x='weekday', y='total', data=df)\n",
    "_ = plot.set(title='Weekly Plot')"
   ]
  },
  {
   "cell_type": "markdown",
   "id": "cf391387",
   "metadata": {},
   "source": [
    "## Monthly Boxplot"
   ]
  },
  {
   "cell_type": "code",
   "execution_count": 22,
   "id": "68ed46d1",
   "metadata": {
    "ExecuteTime": {
     "end_time": "2022-09-25T19:24:34.854390Z",
     "start_time": "2022-09-25T19:24:34.184336Z"
    }
   },
   "outputs": [
    {
     "data": {
      "image/png": "[encoded data removed]",
      "text/plain": [
       "<Figure size 936x864 with 3 Axes>"
      ]
     },
     "metadata": {
      "needs_background": "light"
     },
     "output_type": "display_data"
    }
   ],
   "source": [
    "monthly_agg = df.groupby('month',sort=False)['total'].sum().reset_index()\n",
    "fig, axs = plt.subplots(nrows=3, figsize=(13,12))\n",
    "sns.boxplot(x='month', y='total', data=df, ax=axs[0])\n",
    "_ = sns.lineplot(x='month', y='total', data=monthly_agg, ax=axs[1])\n",
    "_ = sns.barplot(x='month', y='total', data=monthly_agg, ax=axs[2])"
   ]
  },
  {
   "cell_type": "markdown",
   "id": "8944376b",
   "metadata": {},
   "source": [
    "## Yearly Boxplot"
   ]
  },
  {
   "cell_type": "code",
   "execution_count": 23,
   "id": "50b6017e",
   "metadata": {
    "ExecuteTime": {
     "end_time": "2022-09-25T19:24:35.330736Z",
     "start_time": "2022-09-25T19:24:34.857384Z"
    }
   },
   "outputs": [
    {
     "data": {
      "image/png": "[encoded data removed]",
      "text/plain": [
       "<Figure size 936x792 with 3 Axes>"
      ]
     },
     "metadata": {
      "needs_background": "light"
     },
     "output_type": "display_data"
    }
   ],
   "source": [
    "yearly_agg  = df.groupby('year',sort=False)['total'].sum().reset_index()\n",
    "fig, axs = plt.subplots(nrows=3, figsize=(13,11))\n",
    "sns.boxplot(x='year', y='total', data=df, ax=axs[0])\n",
    "_ = sns.lineplot(x='year', y='total', data=yearly_agg , ax=axs[1])\n",
    "_ = sns.barplot(x='year', y='total', data=yearly_agg, ax=axs[2])"
   ]
  },
  {
   "cell_type": "markdown",
   "id": "fa54e65c",
   "metadata": {},
   "source": [
    "## Plot the time series"
   ]
  },
  {
   "cell_type": "code",
   "execution_count": 24,
   "id": "eb02d2e2",
   "metadata": {
    "ExecuteTime": {
     "end_time": "2022-09-25T19:24:35.692191Z",
     "start_time": "2022-09-25T19:24:35.333534Z"
    }
   },
   "outputs": [
    {
     "data": {
      "image/png": "[encoded data removed]",
      "text/plain": [
       "<Figure size 1152x576 with 1 Axes>"
      ]
     },
     "metadata": {
      "needs_background": "light"
     },
     "output_type": "display_data"
    }
   ],
   "source": [
    "plt.figure(figsize=(16,8))\n",
    "plt.plot(df['date'],df['total'], \".-\", label = 'Sales');\n",
    "plt.grid()\n",
    "\n",
    "# plt.figure(figsize=(16,8))\n",
    "\n",
    "# plt.plot(df['sales'], \".-\", label = 'Sales')\n",
    "\n",
    "plt.title('Total Number of Boardings over Time', fontsize=20)\n",
    "plt.xlabel(\"Time(Year)\", fontsize=16)\n",
    "plt.ylabel(\"Total Number of Boardings\", fontsize=16)\n",
    "plt.legend(loc = 'best')\n",
    "for year in range(2019,2023):\n",
    "    plt.axvline(pd.to_datetime(str(year)+'-01-01'), color='k', linestyle='--', alpha=0.2)"
   ]
  },
  {
   "cell_type": "markdown",
   "id": "d8820f10",
   "metadata": {},
   "source": [
    "## Set date as index"
   ]
  },
  {
   "cell_type": "code",
   "execution_count": null,
   "id": "6860ec97",
   "metadata": {},
   "outputs": [],
   "source": [
    "df_orig = df.copy()"
   ]
  },
  {
   "cell_type": "code",
   "execution_count": 25,
   "id": "b28ec49e",
   "metadata": {
    "ExecuteTime": {
     "end_time": "2022-09-25T19:24:35.710972Z",
     "start_time": "2022-09-25T19:24:35.694901Z"
    }
   },
   "outputs": [
    {
     "data": {
      "text/html": [
       "<div>\n",
       "<style scoped>\n",
       "    .dataframe tbody tr th:only-of-type {\n",
       "        vertical-align: middle;\n",
       "    }\n",
       "\n",
       "    .dataframe tbody tr th {\n",
       "        vertical-align: top;\n",
       "    }\n",
       "\n",
       "    .dataframe thead th {\n",
       "        text-align: right;\n",
       "    }\n",
       "</style>\n",
       "<table border=\"1\" class=\"dataframe\">\n",
       "  <thead>\n",
       "    <tr style=\"text-align: right;\">\n",
       "      <th></th>\n",
       "      <th>index</th>\n",
       "      <th>my_way</th>\n",
       "      <th>paper_ticket</th>\n",
       "      <th>total</th>\n",
       "      <th>month</th>\n",
       "      <th>year</th>\n",
       "      <th>weekday</th>\n",
       "    </tr>\n",
       "    <tr>\n",
       "      <th>date</th>\n",
       "      <th></th>\n",
       "      <th></th>\n",
       "      <th></th>\n",
       "      <th></th>\n",
       "      <th></th>\n",
       "      <th></th>\n",
       "      <th></th>\n",
       "    </tr>\n",
       "  </thead>\n",
       "  <tbody>\n",
       "    <tr>\n",
       "      <th>2019-04-22</th>\n",
       "      <td>464</td>\n",
       "      <td>4075</td>\n",
       "      <td>1418</td>\n",
       "      <td>5493</td>\n",
       "      <td>4</td>\n",
       "      <td>2019</td>\n",
       "      <td>Monday</td>\n",
       "    </tr>\n",
       "    <tr>\n",
       "      <th>2019-04-23</th>\n",
       "      <td>555</td>\n",
       "      <td>8134</td>\n",
       "      <td>1018</td>\n",
       "      <td>9152</td>\n",
       "      <td>4</td>\n",
       "      <td>2019</td>\n",
       "      <td>Tuesday</td>\n",
       "    </tr>\n",
       "    <tr>\n",
       "      <th>2019-04-24</th>\n",
       "      <td>705</td>\n",
       "      <td>9518</td>\n",
       "      <td>1147</td>\n",
       "      <td>10665</td>\n",
       "      <td>4</td>\n",
       "      <td>2019</td>\n",
       "      <td>Wednesday</td>\n",
       "    </tr>\n",
       "    <tr>\n",
       "      <th>2019-04-25</th>\n",
       "      <td>985</td>\n",
       "      <td>4866</td>\n",
       "      <td>1313</td>\n",
       "      <td>6179</td>\n",
       "      <td>4</td>\n",
       "      <td>2019</td>\n",
       "      <td>Thursday</td>\n",
       "    </tr>\n",
       "    <tr>\n",
       "      <th>2019-04-26</th>\n",
       "      <td>1025</td>\n",
       "      <td>9074</td>\n",
       "      <td>1143</td>\n",
       "      <td>10217</td>\n",
       "      <td>4</td>\n",
       "      <td>2019</td>\n",
       "      <td>Friday</td>\n",
       "    </tr>\n",
       "  </tbody>\n",
       "</table>\n",
       "</div>"
      ],
      "text/plain": [
       "            index  my_way  paper_ticket  total  month  year    weekday\n",
       "date                                                                  \n",
       "2019-04-22    464    4075          1418   5493      4  2019     Monday\n",
       "2019-04-23    555    8134          1018   9152      4  2019    Tuesday\n",
       "2019-04-24    705    9518          1147  10665      4  2019  Wednesday\n",
       "2019-04-25    985    4866          1313   6179      4  2019   Thursday\n",
       "2019-04-26   1025    9074          1143  10217      4  2019     Friday"
      ]
     },
     "execution_count": 25,
     "metadata": {},
     "output_type": "execute_result"
    }
   ],
   "source": [
    "df.set_index('date', inplace=True)\n",
    "df.head()"
   ]
  },
  {
   "cell_type": "code",
   "execution_count": 26,
   "id": "d98ff56c",
   "metadata": {
    "ExecuteTime": {
     "end_time": "2022-09-25T19:24:35.737584Z",
     "start_time": "2022-09-25T19:24:35.714956Z"
    }
   },
   "outputs": [
    {
     "data": {
      "text/html": [
       "<div>\n",
       "<style scoped>\n",
       "    .dataframe tbody tr th:only-of-type {\n",
       "        vertical-align: middle;\n",
       "    }\n",
       "\n",
       "    .dataframe tbody tr th {\n",
       "        vertical-align: top;\n",
       "    }\n",
       "\n",
       "    .dataframe thead th {\n",
       "        text-align: right;\n",
       "    }\n",
       "</style>\n",
       "<table border=\"1\" class=\"dataframe\">\n",
       "  <thead>\n",
       "    <tr style=\"text-align: right;\">\n",
       "      <th></th>\n",
       "      <th>my_way</th>\n",
       "      <th>paper_ticket</th>\n",
       "      <th>total</th>\n",
       "      <th>month</th>\n",
       "      <th>year</th>\n",
       "      <th>weekday</th>\n",
       "    </tr>\n",
       "    <tr>\n",
       "      <th>date</th>\n",
       "      <th></th>\n",
       "      <th></th>\n",
       "      <th></th>\n",
       "      <th></th>\n",
       "      <th></th>\n",
       "      <th></th>\n",
       "    </tr>\n",
       "  </thead>\n",
       "  <tbody>\n",
       "    <tr>\n",
       "      <th>2019-04-22</th>\n",
       "      <td>4075</td>\n",
       "      <td>1418</td>\n",
       "      <td>5493</td>\n",
       "      <td>4</td>\n",
       "      <td>2019</td>\n",
       "      <td>Monday</td>\n",
       "    </tr>\n",
       "    <tr>\n",
       "      <th>2019-04-23</th>\n",
       "      <td>8134</td>\n",
       "      <td>1018</td>\n",
       "      <td>9152</td>\n",
       "      <td>4</td>\n",
       "      <td>2019</td>\n",
       "      <td>Tuesday</td>\n",
       "    </tr>\n",
       "    <tr>\n",
       "      <th>2019-04-24</th>\n",
       "      <td>9518</td>\n",
       "      <td>1147</td>\n",
       "      <td>10665</td>\n",
       "      <td>4</td>\n",
       "      <td>2019</td>\n",
       "      <td>Wednesday</td>\n",
       "    </tr>\n",
       "    <tr>\n",
       "      <th>2019-04-25</th>\n",
       "      <td>4866</td>\n",
       "      <td>1313</td>\n",
       "      <td>6179</td>\n",
       "      <td>4</td>\n",
       "      <td>2019</td>\n",
       "      <td>Thursday</td>\n",
       "    </tr>\n",
       "    <tr>\n",
       "      <th>2019-04-26</th>\n",
       "      <td>9074</td>\n",
       "      <td>1143</td>\n",
       "      <td>10217</td>\n",
       "      <td>4</td>\n",
       "      <td>2019</td>\n",
       "      <td>Friday</td>\n",
       "    </tr>\n",
       "  </tbody>\n",
       "</table>\n",
       "</div>"
      ],
      "text/plain": [
       "            my_way  paper_ticket  total  month  year    weekday\n",
       "date                                                           \n",
       "2019-04-22    4075          1418   5493      4  2019     Monday\n",
       "2019-04-23    8134          1018   9152      4  2019    Tuesday\n",
       "2019-04-24    9518          1147  10665      4  2019  Wednesday\n",
       "2019-04-25    4866          1313   6179      4  2019   Thursday\n",
       "2019-04-26    9074          1143  10217      4  2019     Friday"
      ]
     },
     "execution_count": 26,
     "metadata": {},
     "output_type": "execute_result"
    }
   ],
   "source": [
    "df.drop('index',axis=1,inplace=True)\n",
    "df.head()"
   ]
  },
  {
   "cell_type": "markdown",
   "id": "5082a8e6",
   "metadata": {},
   "source": [
    "## Extracting required columns"
   ]
  },
  {
   "cell_type": "code",
   "execution_count": 27,
   "id": "9899a9c4",
   "metadata": {
    "ExecuteTime": {
     "end_time": "2022-09-25T19:24:35.756181Z",
     "start_time": "2022-09-25T19:24:35.740807Z"
    }
   },
   "outputs": [
    {
     "data": {
      "text/html": [
       "<div>\n",
       "<style scoped>\n",
       "    .dataframe tbody tr th:only-of-type {\n",
       "        vertical-align: middle;\n",
       "    }\n",
       "\n",
       "    .dataframe tbody tr th {\n",
       "        vertical-align: top;\n",
       "    }\n",
       "\n",
       "    .dataframe thead th {\n",
       "        text-align: right;\n",
       "    }\n",
       "</style>\n",
       "<table border=\"1\" class=\"dataframe\">\n",
       "  <thead>\n",
       "    <tr style=\"text-align: right;\">\n",
       "      <th></th>\n",
       "      <th>my_way</th>\n",
       "      <th>paper_ticket</th>\n",
       "      <th>total</th>\n",
       "    </tr>\n",
       "    <tr>\n",
       "      <th>date</th>\n",
       "      <th></th>\n",
       "      <th></th>\n",
       "      <th></th>\n",
       "    </tr>\n",
       "  </thead>\n",
       "  <tbody>\n",
       "    <tr>\n",
       "      <th>2019-04-22</th>\n",
       "      <td>4075</td>\n",
       "      <td>1418</td>\n",
       "      <td>5493</td>\n",
       "    </tr>\n",
       "    <tr>\n",
       "      <th>2019-04-23</th>\n",
       "      <td>8134</td>\n",
       "      <td>1018</td>\n",
       "      <td>9152</td>\n",
       "    </tr>\n",
       "    <tr>\n",
       "      <th>2019-04-24</th>\n",
       "      <td>9518</td>\n",
       "      <td>1147</td>\n",
       "      <td>10665</td>\n",
       "    </tr>\n",
       "    <tr>\n",
       "      <th>2019-04-25</th>\n",
       "      <td>4866</td>\n",
       "      <td>1313</td>\n",
       "      <td>6179</td>\n",
       "    </tr>\n",
       "    <tr>\n",
       "      <th>2019-04-26</th>\n",
       "      <td>9074</td>\n",
       "      <td>1143</td>\n",
       "      <td>10217</td>\n",
       "    </tr>\n",
       "  </tbody>\n",
       "</table>\n",
       "</div>"
      ],
      "text/plain": [
       "            my_way  paper_ticket  total\n",
       "date                                   \n",
       "2019-04-22    4075          1418   5493\n",
       "2019-04-23    8134          1018   9152\n",
       "2019-04-24    9518          1147  10665\n",
       "2019-04-25    4866          1313   6179\n",
       "2019-04-26    9074          1143  10217"
      ]
     },
     "execution_count": 27,
     "metadata": {},
     "output_type": "execute_result"
    }
   ],
   "source": [
    "df=df[['my_way','paper_ticket','total']]\n",
    "df.head()"
   ]
  },
  {
   "cell_type": "code",
   "execution_count": 28,
   "id": "6ebb5309",
   "metadata": {
    "ExecuteTime": {
     "end_time": "2022-09-25T19:24:35.776638Z",
     "start_time": "2022-09-25T19:24:35.759227Z"
    }
   },
   "outputs": [
    {
     "data": {
      "text/html": [
       "<div>\n",
       "<style scoped>\n",
       "    .dataframe tbody tr th:only-of-type {\n",
       "        vertical-align: middle;\n",
       "    }\n",
       "\n",
       "    .dataframe tbody tr th {\n",
       "        vertical-align: top;\n",
       "    }\n",
       "\n",
       "    .dataframe thead th {\n",
       "        text-align: right;\n",
       "    }\n",
       "</style>\n",
       "<table border=\"1\" class=\"dataframe\">\n",
       "  <thead>\n",
       "    <tr style=\"text-align: right;\">\n",
       "      <th></th>\n",
       "      <th>my_way</th>\n",
       "      <th>paper_ticket</th>\n",
       "      <th>total</th>\n",
       "    </tr>\n",
       "    <tr>\n",
       "      <th>date</th>\n",
       "      <th></th>\n",
       "      <th></th>\n",
       "      <th></th>\n",
       "    </tr>\n",
       "  </thead>\n",
       "  <tbody>\n",
       "    <tr>\n",
       "      <th>2022-09-13</th>\n",
       "      <td>11665</td>\n",
       "      <td>375</td>\n",
       "      <td>12040</td>\n",
       "    </tr>\n",
       "    <tr>\n",
       "      <th>2022-09-14</th>\n",
       "      <td>11551</td>\n",
       "      <td>391</td>\n",
       "      <td>11942</td>\n",
       "    </tr>\n",
       "    <tr>\n",
       "      <th>2022-09-15</th>\n",
       "      <td>10619</td>\n",
       "      <td>392</td>\n",
       "      <td>11011</td>\n",
       "    </tr>\n",
       "    <tr>\n",
       "      <th>2022-09-16</th>\n",
       "      <td>11324</td>\n",
       "      <td>524</td>\n",
       "      <td>11848</td>\n",
       "    </tr>\n",
       "    <tr>\n",
       "      <th>2022-09-17</th>\n",
       "      <td>5918</td>\n",
       "      <td>439</td>\n",
       "      <td>6357</td>\n",
       "    </tr>\n",
       "  </tbody>\n",
       "</table>\n",
       "</div>"
      ],
      "text/plain": [
       "            my_way  paper_ticket  total\n",
       "date                                   \n",
       "2022-09-13   11665           375  12040\n",
       "2022-09-14   11551           391  11942\n",
       "2022-09-15   10619           392  11011\n",
       "2022-09-16   11324           524  11848\n",
       "2022-09-17    5918           439   6357"
      ]
     },
     "execution_count": 28,
     "metadata": {},
     "output_type": "execute_result"
    }
   ],
   "source": [
    "df.tail()"
   ]
  },
  {
   "cell_type": "code",
   "execution_count": 29,
   "id": "44017e1c",
   "metadata": {
    "ExecuteTime": {
     "end_time": "2022-09-25T19:24:35.787640Z",
     "start_time": "2022-09-25T19:24:35.778637Z"
    }
   },
   "outputs": [
    {
     "data": {
      "text/plain": [
       "(1243, 3)"
      ]
     },
     "execution_count": 29,
     "metadata": {},
     "output_type": "execute_result"
    }
   ],
   "source": [
    "df.shape"
   ]
  },
  {
   "cell_type": "markdown",
   "id": "6f8e744b",
   "metadata": {},
   "source": [
    "### Splitting the data into train and test with all the features"
   ]
  },
  {
   "cell_type": "code",
   "execution_count": 30,
   "id": "3c03d89c",
   "metadata": {
    "ExecuteTime": {
     "end_time": "2022-09-25T19:24:35.813715Z",
     "start_time": "2022-09-25T19:24:35.791857Z"
    }
   },
   "outputs": [],
   "source": [
    "train_end = datetime(2022,6,16) #2022-06-16\n",
    "test_end = datetime(2022,9,17) #2022-09-17\n",
    "\n",
    "train_df = df[:train_end]\n",
    "test_df = df[train_end + timedelta(days=1):test_end]"
   ]
  },
  {
   "cell_type": "code",
   "execution_count": 31,
   "id": "cd68d297",
   "metadata": {
    "ExecuteTime": {
     "end_time": "2022-09-25T19:24:35.822483Z",
     "start_time": "2022-09-25T19:24:35.816276Z"
    }
   },
   "outputs": [],
   "source": [
    "train_lr = train_df.copy()\n",
    "test_lr = test_df.copy()"
   ]
  },
  {
   "cell_type": "code",
   "execution_count": 32,
   "id": "95d0548d",
   "metadata": {
    "ExecuteTime": {
     "end_time": "2022-09-25T19:24:35.843957Z",
     "start_time": "2022-09-25T19:24:35.830711Z"
    }
   },
   "outputs": [
    {
     "data": {
      "text/html": [
       "<div>\n",
       "<style scoped>\n",
       "    .dataframe tbody tr th:only-of-type {\n",
       "        vertical-align: middle;\n",
       "    }\n",
       "\n",
       "    .dataframe tbody tr th {\n",
       "        vertical-align: top;\n",
       "    }\n",
       "\n",
       "    .dataframe thead th {\n",
       "        text-align: right;\n",
       "    }\n",
       "</style>\n",
       "<table border=\"1\" class=\"dataframe\">\n",
       "  <thead>\n",
       "    <tr style=\"text-align: right;\">\n",
       "      <th></th>\n",
       "      <th>my_way</th>\n",
       "      <th>paper_ticket</th>\n",
       "      <th>total</th>\n",
       "    </tr>\n",
       "    <tr>\n",
       "      <th>date</th>\n",
       "      <th></th>\n",
       "      <th></th>\n",
       "      <th></th>\n",
       "    </tr>\n",
       "  </thead>\n",
       "  <tbody>\n",
       "    <tr>\n",
       "      <th>2019-04-22</th>\n",
       "      <td>4075</td>\n",
       "      <td>1418</td>\n",
       "      <td>5493</td>\n",
       "    </tr>\n",
       "    <tr>\n",
       "      <th>2019-04-23</th>\n",
       "      <td>8134</td>\n",
       "      <td>1018</td>\n",
       "      <td>9152</td>\n",
       "    </tr>\n",
       "    <tr>\n",
       "      <th>2019-04-24</th>\n",
       "      <td>9518</td>\n",
       "      <td>1147</td>\n",
       "      <td>10665</td>\n",
       "    </tr>\n",
       "    <tr>\n",
       "      <th>2019-04-25</th>\n",
       "      <td>4866</td>\n",
       "      <td>1313</td>\n",
       "      <td>6179</td>\n",
       "    </tr>\n",
       "    <tr>\n",
       "      <th>2019-04-26</th>\n",
       "      <td>9074</td>\n",
       "      <td>1143</td>\n",
       "      <td>10217</td>\n",
       "    </tr>\n",
       "  </tbody>\n",
       "</table>\n",
       "</div>"
      ],
      "text/plain": [
       "            my_way  paper_ticket  total\n",
       "date                                   \n",
       "2019-04-22    4075          1418   5493\n",
       "2019-04-23    8134          1018   9152\n",
       "2019-04-24    9518          1147  10665\n",
       "2019-04-25    4866          1313   6179\n",
       "2019-04-26    9074          1143  10217"
      ]
     },
     "execution_count": 32,
     "metadata": {},
     "output_type": "execute_result"
    }
   ],
   "source": [
    "train_lr.head()"
   ]
  },
  {
   "cell_type": "code",
   "execution_count": 33,
   "id": "1ff12cfe",
   "metadata": {
    "ExecuteTime": {
     "end_time": "2022-09-25T19:24:35.859390Z",
     "start_time": "2022-09-25T19:24:35.845775Z"
    }
   },
   "outputs": [
    {
     "data": {
      "text/html": [
       "<div>\n",
       "<style scoped>\n",
       "    .dataframe tbody tr th:only-of-type {\n",
       "        vertical-align: middle;\n",
       "    }\n",
       "\n",
       "    .dataframe tbody tr th {\n",
       "        vertical-align: top;\n",
       "    }\n",
       "\n",
       "    .dataframe thead th {\n",
       "        text-align: right;\n",
       "    }\n",
       "</style>\n",
       "<table border=\"1\" class=\"dataframe\">\n",
       "  <thead>\n",
       "    <tr style=\"text-align: right;\">\n",
       "      <th></th>\n",
       "      <th>my_way</th>\n",
       "      <th>paper_ticket</th>\n",
       "      <th>total</th>\n",
       "    </tr>\n",
       "    <tr>\n",
       "      <th>date</th>\n",
       "      <th></th>\n",
       "      <th></th>\n",
       "      <th></th>\n",
       "    </tr>\n",
       "  </thead>\n",
       "  <tbody>\n",
       "    <tr>\n",
       "      <th>2022-06-17</th>\n",
       "      <td>10818</td>\n",
       "      <td>470</td>\n",
       "      <td>11288</td>\n",
       "    </tr>\n",
       "    <tr>\n",
       "      <th>2022-06-18</th>\n",
       "      <td>5183</td>\n",
       "      <td>516</td>\n",
       "      <td>5699</td>\n",
       "    </tr>\n",
       "    <tr>\n",
       "      <th>2022-06-19</th>\n",
       "      <td>3845</td>\n",
       "      <td>273</td>\n",
       "      <td>4118</td>\n",
       "    </tr>\n",
       "    <tr>\n",
       "      <th>2022-06-20</th>\n",
       "      <td>10128</td>\n",
       "      <td>377</td>\n",
       "      <td>10505</td>\n",
       "    </tr>\n",
       "    <tr>\n",
       "      <th>2022-06-21</th>\n",
       "      <td>10418</td>\n",
       "      <td>323</td>\n",
       "      <td>10741</td>\n",
       "    </tr>\n",
       "  </tbody>\n",
       "</table>\n",
       "</div>"
      ],
      "text/plain": [
       "            my_way  paper_ticket  total\n",
       "date                                   \n",
       "2022-06-17   10818           470  11288\n",
       "2022-06-18    5183           516   5699\n",
       "2022-06-19    3845           273   4118\n",
       "2022-06-20   10128           377  10505\n",
       "2022-06-21   10418           323  10741"
      ]
     },
     "execution_count": 33,
     "metadata": {},
     "output_type": "execute_result"
    }
   ],
   "source": [
    "test_lr.head()"
   ]
  },
  {
   "cell_type": "code",
   "execution_count": 34,
   "id": "f0360cf3",
   "metadata": {
    "ExecuteTime": {
     "end_time": "2022-09-25T19:24:35.875093Z",
     "start_time": "2022-09-25T19:24:35.861355Z"
    }
   },
   "outputs": [],
   "source": [
    "X_train = train_lr.drop('total',axis=1)\n",
    "y_train = train_lr['total']\n",
    "X_test = test_lr.drop('total',axis=1)\n",
    "y_test = test_lr['total']"
   ]
  },
  {
   "cell_type": "code",
   "execution_count": 35,
   "id": "dcc06a29",
   "metadata": {
    "ExecuteTime": {
     "end_time": "2022-09-25T19:24:35.884842Z",
     "start_time": "2022-09-25T19:24:35.877091Z"
    }
   },
   "outputs": [
    {
     "name": "stdout",
     "output_type": "stream",
     "text": [
      "(1150, 2) (1150,)\n",
      "(93, 2) (93,)\n"
     ]
    }
   ],
   "source": [
    "print(X_train.shape,y_train.shape)\n",
    "print(X_test.shape,y_test.shape)"
   ]
  },
  {
   "cell_type": "code",
   "execution_count": 36,
   "id": "8a7ef607",
   "metadata": {
    "ExecuteTime": {
     "end_time": "2022-09-25T19:24:35.902205Z",
     "start_time": "2022-09-25T19:24:35.888125Z"
    }
   },
   "outputs": [
    {
     "data": {
      "text/html": [
       "<div>\n",
       "<style scoped>\n",
       "    .dataframe tbody tr th:only-of-type {\n",
       "        vertical-align: middle;\n",
       "    }\n",
       "\n",
       "    .dataframe tbody tr th {\n",
       "        vertical-align: top;\n",
       "    }\n",
       "\n",
       "    .dataframe thead th {\n",
       "        text-align: right;\n",
       "    }\n",
       "</style>\n",
       "<table border=\"1\" class=\"dataframe\">\n",
       "  <thead>\n",
       "    <tr style=\"text-align: right;\">\n",
       "      <th></th>\n",
       "      <th>my_way</th>\n",
       "      <th>paper_ticket</th>\n",
       "    </tr>\n",
       "    <tr>\n",
       "      <th>date</th>\n",
       "      <th></th>\n",
       "      <th></th>\n",
       "    </tr>\n",
       "  </thead>\n",
       "  <tbody>\n",
       "    <tr>\n",
       "      <th>2019-04-22</th>\n",
       "      <td>4075</td>\n",
       "      <td>1418</td>\n",
       "    </tr>\n",
       "    <tr>\n",
       "      <th>2019-04-23</th>\n",
       "      <td>8134</td>\n",
       "      <td>1018</td>\n",
       "    </tr>\n",
       "    <tr>\n",
       "      <th>2019-04-24</th>\n",
       "      <td>9518</td>\n",
       "      <td>1147</td>\n",
       "    </tr>\n",
       "    <tr>\n",
       "      <th>2019-04-25</th>\n",
       "      <td>4866</td>\n",
       "      <td>1313</td>\n",
       "    </tr>\n",
       "    <tr>\n",
       "      <th>2019-04-26</th>\n",
       "      <td>9074</td>\n",
       "      <td>1143</td>\n",
       "    </tr>\n",
       "  </tbody>\n",
       "</table>\n",
       "</div>"
      ],
      "text/plain": [
       "            my_way  paper_ticket\n",
       "date                            \n",
       "2019-04-22    4075          1418\n",
       "2019-04-23    8134          1018\n",
       "2019-04-24    9518          1147\n",
       "2019-04-25    4866          1313\n",
       "2019-04-26    9074          1143"
      ]
     },
     "execution_count": 36,
     "metadata": {},
     "output_type": "execute_result"
    }
   ],
   "source": [
    "X_train.head()"
   ]
  },
  {
   "cell_type": "markdown",
   "id": "d17e0753",
   "metadata": {},
   "source": [
    "# Model Building"
   ]
  },
  {
   "cell_type": "code",
   "execution_count": 91,
   "id": "abb0c93f",
   "metadata": {
    "ExecuteTime": {
     "end_time": "2022-09-26T03:02:07.890215Z",
     "start_time": "2022-09-26T03:02:07.872177Z"
    }
   },
   "outputs": [],
   "source": [
    "QUANTILES = [0.1, 0.5, 0.9]\n",
    "# QUANTILES.reverse()  # Test out to see if we're getting different results."
   ]
  },
  {
   "cell_type": "code",
   "execution_count": 66,
   "id": "aa6726a2",
   "metadata": {
    "ExecuteTime": {
     "end_time": "2022-09-25T20:00:26.411276Z",
     "start_time": "2022-09-25T20:00:26.374360Z"
    }
   },
   "outputs": [
    {
     "data": {
      "text/html": [
       "<div>\n",
       "<style scoped>\n",
       "    .dataframe tbody tr th:only-of-type {\n",
       "        vertical-align: middle;\n",
       "    }\n",
       "\n",
       "    .dataframe tbody tr th {\n",
       "        vertical-align: top;\n",
       "    }\n",
       "\n",
       "    .dataframe thead th {\n",
       "        text-align: right;\n",
       "    }\n",
       "</style>\n",
       "<table border=\"1\" class=\"dataframe\">\n",
       "  <thead>\n",
       "    <tr style=\"text-align: right;\">\n",
       "      <th></th>\n",
       "      <th>date</th>\n",
       "      <th>my_way</th>\n",
       "      <th>paper_ticket</th>\n",
       "      <th>total</th>\n",
       "      <th>Pred_RF</th>\n",
       "    </tr>\n",
       "  </thead>\n",
       "  <tbody>\n",
       "    <tr>\n",
       "      <th>0</th>\n",
       "      <td>2019-04-22</td>\n",
       "      <td>4075</td>\n",
       "      <td>1418</td>\n",
       "      <td>5493</td>\n",
       "      <td>0</td>\n",
       "    </tr>\n",
       "    <tr>\n",
       "      <th>1</th>\n",
       "      <td>2019-04-23</td>\n",
       "      <td>8134</td>\n",
       "      <td>1018</td>\n",
       "      <td>9152</td>\n",
       "      <td>0</td>\n",
       "    </tr>\n",
       "    <tr>\n",
       "      <th>2</th>\n",
       "      <td>2019-04-24</td>\n",
       "      <td>9518</td>\n",
       "      <td>1147</td>\n",
       "      <td>10665</td>\n",
       "      <td>0</td>\n",
       "    </tr>\n",
       "    <tr>\n",
       "      <th>3</th>\n",
       "      <td>2019-04-25</td>\n",
       "      <td>4866</td>\n",
       "      <td>1313</td>\n",
       "      <td>6179</td>\n",
       "      <td>0</td>\n",
       "    </tr>\n",
       "    <tr>\n",
       "      <th>4</th>\n",
       "      <td>2019-04-26</td>\n",
       "      <td>9074</td>\n",
       "      <td>1143</td>\n",
       "      <td>10217</td>\n",
       "      <td>0</td>\n",
       "    </tr>\n",
       "  </tbody>\n",
       "</table>\n",
       "</div>"
      ],
      "text/plain": [
       "        date  my_way  paper_ticket  total  Pred_RF\n",
       "0 2019-04-22    4075          1418   5493        0\n",
       "1 2019-04-23    8134          1018   9152        0\n",
       "2 2019-04-24    9518          1147  10665        0\n",
       "3 2019-04-25    4866          1313   6179        0\n",
       "4 2019-04-26    9074          1143  10217        0"
      ]
     },
     "execution_count": 66,
     "metadata": {},
     "output_type": "execute_result"
    }
   ],
   "source": [
    "df_copy = df.reset_index()\n",
    "df_copy.head()"
   ]
  },
  {
   "cell_type": "markdown",
   "id": "135fba2e",
   "metadata": {},
   "source": [
    "## Random Forest Model"
   ]
  },
  {
   "cell_type": "code",
   "execution_count": 56,
   "id": "2a80ddec",
   "metadata": {
    "ExecuteTime": {
     "end_time": "2022-09-25T19:54:24.320322Z",
     "start_time": "2022-09-25T19:54:24.005835Z"
    },
    "scrolled": true
   },
   "outputs": [
    {
     "data": {
      "text/html": [
       "<style>#sk-container-id-2 {color: black;background-color: white;}#sk-container-id-2 pre{padding: 0;}#sk-container-id-2 div.sk-toggleable {background-color: white;}#sk-container-id-2 label.sk-toggleable__label {cursor: pointer;display: block;width: 100%;margin-bottom: 0;padding: 0.3em;box-sizing: border-box;text-align: center;}#sk-container-id-2 label.sk-toggleable__label-arrow:before {content: \"▸\";float: left;margin-right: 0.25em;color: #696969;}#sk-container-id-2 label.sk-toggleable__label-arrow:hover:before {color: black;}#sk-container-id-2 div.sk-estimator:hover label.sk-toggleable__label-arrow:before {color: black;}#sk-container-id-2 div.sk-toggleable__content {max-height: 0;max-width: 0;overflow: hidden;text-align: left;background-color: #f0f8ff;}#sk-container-id-2 div.sk-toggleable__content pre {margin: 0.2em;color: black;border-radius: 0.25em;background-color: #f0f8ff;}#sk-container-id-2 input.sk-toggleable__control:checked~div.sk-toggleable__content {max-height: 200px;max-width: 100%;overflow: auto;}#sk-container-id-2 input.sk-toggleable__control:checked~label.sk-toggleable__label-arrow:before {content: \"▾\";}#sk-container-id-2 div.sk-estimator input.sk-toggleable__control:checked~label.sk-toggleable__label {background-color: #d4ebff;}#sk-container-id-2 div.sk-label input.sk-toggleable__control:checked~label.sk-toggleable__label {background-color: #d4ebff;}#sk-container-id-2 input.sk-hidden--visually {border: 0;clip: rect(1px 1px 1px 1px);clip: rect(1px, 1px, 1px, 1px);height: 1px;margin: -1px;overflow: hidden;padding: 0;position: absolute;width: 1px;}#sk-container-id-2 div.sk-estimator {font-family: monospace;background-color: #f0f8ff;border: 1px dotted black;border-radius: 0.25em;box-sizing: border-box;margin-bottom: 0.5em;}#sk-container-id-2 div.sk-estimator:hover {background-color: #d4ebff;}#sk-container-id-2 div.sk-parallel-item::after {content: \"\";width: 100%;border-bottom: 1px solid gray;flex-grow: 1;}#sk-container-id-2 div.sk-label:hover label.sk-toggleable__label {background-color: #d4ebff;}#sk-container-id-2 div.sk-serial::before {content: \"\";position: absolute;border-left: 1px solid gray;box-sizing: border-box;top: 0;bottom: 0;left: 50%;z-index: 0;}#sk-container-id-2 div.sk-serial {display: flex;flex-direction: column;align-items: center;background-color: white;padding-right: 0.2em;padding-left: 0.2em;position: relative;}#sk-container-id-2 div.sk-item {position: relative;z-index: 1;}#sk-container-id-2 div.sk-parallel {display: flex;align-items: stretch;justify-content: center;background-color: white;position: relative;}#sk-container-id-2 div.sk-item::before, #sk-container-id-2 div.sk-parallel-item::before {content: \"\";position: absolute;border-left: 1px solid gray;box-sizing: border-box;top: 0;bottom: 0;left: 50%;z-index: -1;}#sk-container-id-2 div.sk-parallel-item {display: flex;flex-direction: column;z-index: 1;position: relative;background-color: white;}#sk-container-id-2 div.sk-parallel-item:first-child::after {align-self: flex-end;width: 50%;}#sk-container-id-2 div.sk-parallel-item:last-child::after {align-self: flex-start;width: 50%;}#sk-container-id-2 div.sk-parallel-item:only-child::after {width: 0;}#sk-container-id-2 div.sk-dashed-wrapped {border: 1px dashed gray;margin: 0 0.4em 0.5em 0.4em;box-sizing: border-box;padding-bottom: 0.4em;background-color: white;}#sk-container-id-2 div.sk-label label {font-family: monospace;font-weight: bold;display: inline-block;line-height: 1.2em;}#sk-container-id-2 div.sk-label-container {text-align: center;}#sk-container-id-2 div.sk-container {/* jupyter's `normalize.less` sets `[hidden] { display: none; }` but bootstrap.min.css set `[hidden] { display: none !important; }` so we also need the `!important` here to be able to override the default hidden behavior on the sphinx rendered scikit-learn.org. See: https://github.com/scikit-learn/scikit-learn/issues/21755 */display: inline-block !important;position: relative;}#sk-container-id-2 div.sk-text-repr-fallback {display: none;}</style><div id=\"sk-container-id-2\" class=\"sk-top-container\"><div class=\"sk-text-repr-fallback\"><pre>RandomForestRegressor()</pre><b>In a Jupyter environment, please rerun this cell to show the HTML representation or trust the notebook. <br />On GitHub, the HTML representation is unable to render, please try loading this page with nbviewer.org.</b></div><div class=\"sk-container\" hidden><div class=\"sk-item\"><div class=\"sk-estimator sk-toggleable\"><input class=\"sk-toggleable__control sk-hidden--visually\" id=\"sk-estimator-id-2\" type=\"checkbox\" checked><label for=\"sk-estimator-id-2\" class=\"sk-toggleable__label sk-toggleable__label-arrow\">RandomForestRegressor</label><div class=\"sk-toggleable__content\"><pre>RandomForestRegressor()</pre></div></div></div></div></div>"
      ],
      "text/plain": [
       "RandomForestRegressor()"
      ]
     },
     "execution_count": 56,
     "metadata": {},
     "output_type": "execute_result"
    }
   ],
   "source": [
    "rf = RandomForestRegressor()\n",
    "rf.fit(X_train, y_train)"
   ]
  },
  {
   "cell_type": "code",
   "execution_count": 57,
   "id": "dea7ffb1",
   "metadata": {
    "ExecuteTime": {
     "end_time": "2022-09-25T19:54:26.341320Z",
     "start_time": "2022-09-25T19:54:26.327852Z"
    }
   },
   "outputs": [],
   "source": [
    "def rf_quantile(m, X, q):\n",
    "    rf_preds = []\n",
    "    for estimator in m.estimators_:\n",
    "        rf_preds.append(estimator.predict(X))\n",
    "    rf_preds = np.array(rf_preds).transpose()  # One row per record.\n",
    "    return np.percentile(rf_preds, q * 100, axis=1)"
   ]
  },
  {
   "cell_type": "code",
   "execution_count": 63,
   "id": "9abb3754",
   "metadata": {
    "ExecuteTime": {
     "end_time": "2022-09-25T19:57:55.306392Z",
     "start_time": "2022-09-25T19:57:54.970882Z"
    },
    "collapsed": true
   },
   "outputs": [
    {
     "data": {
      "text/plain": [
       "array([11206. ,  5636. ,  4068. , 10484. , 10671. , 11206. , 10929. ,\n",
       "        9888.3,  5782. ,  4333. , 10076. , 10770. , 10578.4, 10402. ,\n",
       "        9045. ,  5100.4,  3895. ,  9215. ,  9889. ,  9889. ,  9736. ,\n",
       "        9593. ,  5971. ,  4207. ,  9215. ,  9943.6,  9889. ,  9889. ,\n",
       "        9822. ,  5481. ,  4191. , 10076. , 10833. , 10782. ,  9882.3,\n",
       "       10599. ,  6075. ,  4734. , 10843. , 11238.7,  9707. , 11113. ,\n",
       "       10966. ,  6413. ,  4418. , 10492. , 11403. , 10954. ,  8000. ,\n",
       "       11225. ,  5831. ,  4709. , 10561. , 11685. , 11685. , 11048. ,\n",
       "       10636.8,  6034. ,  4284. , 10939. , 11263. , 11730. , 11206. ,\n",
       "       11447. ,  6274. ,  4436.9, 10833. , 10671. , 11676. , 11771. ,\n",
       "       11614.8,  6472.9,  4783. , 10206. , 11556. , 11175. , 11750. ,\n",
       "       11763.7,  6159. ,  4680. , 11206. , 11577. , 11826. , 11206. ,\n",
       "        6638. ,  6840. ,  5000. , 11048. , 11930. , 11899. , 10955. ,\n",
       "       11771. ,  6143. , 11239. ,  5690. ,  4106. , 10492. , 10770. ,\n",
       "       11221. , 10955. ,  9944. ,  5829. ,  4443. , 10079. , 10803. ,\n",
       "       10603. , 10559. ,  9293. ,  5106. ,  3941. ,  9360. ,  9944. ,\n",
       "        9944. ,  9860.5,  9736. ,  6074. ,  4226. ,  9293. , 10133. ,\n",
       "        9944. ,  9944. ,  9882. ,  5511. ,  4230. , 10086. , 10843. ,\n",
       "       10918. ,  9944. , 10669. ,  6126. ,  4810. , 10923.5, 11314. ,\n",
       "        9741. , 11225. , 11035. ,  6533. ,  4556. , 10492. , 11439. ,\n",
       "       11027. ,  8094. , 11277. ,  5955. ,  4758. , 10638. , 11698. ,\n",
       "       11771. , 11142.5, 10725. ,  6051. ,  4333. , 11039. , 11438. ,\n",
       "       11795. , 11277. , 11600. ,  6299. ,  4654. , 10842. , 10692. ,\n",
       "       11698. , 11795. , 11804. ,  6717. ,  4923. , 10242. , 11603. ,\n",
       "       11206. , 11826. , 11830. ,  6529. ,  4734. , 11221. , 11604. ,\n",
       "       11884. , 11221. ,  6800. ,  6989. ,  5172. , 11113. , 12098. ,\n",
       "       11914. , 11027. , 11830. ,  6316. , 11372. ,  5714. ,  4141. ,\n",
       "       10580. , 10782. , 11239. , 10971. , 10665. ,  5831. ,  4454. ,\n",
       "       10163. , 10918. , 10603. , 10666. ,  9409. ,  5266. ,  4101. ,\n",
       "        9409. , 10665. , 10599. ,  9882. ,  9882. ,  6159. ,  4226. ,\n",
       "        9360. , 10163. , 10218.1, 10665. ,  9940. ,  5690. ,  4269. ,\n",
       "       10163. , 10954. , 10971. , 10048. , 10669. ,  6199.3,  4835. ,\n",
       "       10971. , 11372. ,  9940. , 11314. , 11075. ,  6842. ,  4584. ,\n",
       "       10565.6, 11439. , 11031. ,  8226. , 11440. ,  5976.8,  4783. ,\n",
       "       10645. , 11771. , 11771. , 11236.3, 10803. ,  6159. ,  4443. ,\n",
       "       11113. , 11674. , 11884. , 11372. , 11616. ,  6320. ,  4680. ,\n",
       "       10843. , 10735. , 11852. , 11885.5, 11893. ,  6989. ,  4948. ,\n",
       "       10294.6, 11604. , 11236. , 11914. , 11852. ,  6596.8,  4812.5,\n",
       "       11239. , 11784.2, 12033. , 11239. ,  6989. ,  7284. ,  5258. ,\n",
       "       11222.5, 12118.6, 12038.6, 11031. , 11852. ,  6533. ])"
      ]
     },
     "execution_count": 63,
     "metadata": {},
     "output_type": "execute_result"
    }
   ],
   "source": [
    " np.concatenate([rf_quantile(rf, X_test, q) for q in QUANTILES]) "
   ]
  },
  {
   "cell_type": "code",
   "execution_count": 79,
   "id": "f078b4ba",
   "metadata": {
    "ExecuteTime": {
     "end_time": "2022-09-25T20:10:00.559152Z",
     "start_time": "2022-09-25T20:10:00.212392Z"
    }
   },
   "outputs": [],
   "source": [
    "#pred_rf1,pred_rf2,pred_rf3 = [rf_quantile(rf, X_test, q) for q in QUANTILES]"
   ]
  },
  {
   "cell_type": "code",
   "execution_count": 80,
   "id": "2dfdcee3",
   "metadata": {
    "ExecuteTime": {
     "end_time": "2022-09-25T20:10:14.786990Z",
     "start_time": "2022-09-25T20:10:14.772410Z"
    }
   },
   "outputs": [
    {
     "data": {
      "text/plain": [
       "(93, 93, 93)"
      ]
     },
     "execution_count": 80,
     "metadata": {},
     "output_type": "execute_result"
    }
   ],
   "source": [
    "#len(pred_rf1),len(pred_rf2),len(pred_rf3)"
   ]
  },
  {
   "cell_type": "code",
   "execution_count": 82,
   "id": "f848b629",
   "metadata": {
    "ExecuteTime": {
     "end_time": "2022-09-25T20:11:47.062296Z",
     "start_time": "2022-09-25T20:11:46.724034Z"
    },
    "scrolled": true
   },
   "outputs": [
    {
     "data": {
      "text/html": [
       "<div>\n",
       "<style scoped>\n",
       "    .dataframe tbody tr th:only-of-type {\n",
       "        vertical-align: middle;\n",
       "    }\n",
       "\n",
       "    .dataframe tbody tr th {\n",
       "        vertical-align: top;\n",
       "    }\n",
       "\n",
       "    .dataframe thead th {\n",
       "        text-align: right;\n",
       "    }\n",
       "</style>\n",
       "<table border=\"1\" class=\"dataframe\">\n",
       "  <thead>\n",
       "    <tr style=\"text-align: right;\">\n",
       "      <th></th>\n",
       "      <th>pred_rf1</th>\n",
       "      <th>pred_rf2</th>\n",
       "      <th>pred_rf3</th>\n",
       "    </tr>\n",
       "  </thead>\n",
       "  <tbody>\n",
       "    <tr>\n",
       "      <th>0</th>\n",
       "      <td>11206.0</td>\n",
       "      <td>11239.0</td>\n",
       "      <td>11372.0</td>\n",
       "    </tr>\n",
       "    <tr>\n",
       "      <th>1</th>\n",
       "      <td>5636.0</td>\n",
       "      <td>5690.0</td>\n",
       "      <td>5714.0</td>\n",
       "    </tr>\n",
       "    <tr>\n",
       "      <th>2</th>\n",
       "      <td>4068.0</td>\n",
       "      <td>4106.0</td>\n",
       "      <td>4141.0</td>\n",
       "    </tr>\n",
       "    <tr>\n",
       "      <th>3</th>\n",
       "      <td>10484.0</td>\n",
       "      <td>10492.0</td>\n",
       "      <td>10580.0</td>\n",
       "    </tr>\n",
       "    <tr>\n",
       "      <th>4</th>\n",
       "      <td>10671.0</td>\n",
       "      <td>10770.0</td>\n",
       "      <td>10782.0</td>\n",
       "    </tr>\n",
       "  </tbody>\n",
       "</table>\n",
       "</div>"
      ],
      "text/plain": [
       "   pred_rf1  pred_rf2  pred_rf3\n",
       "0   11206.0   11239.0   11372.0\n",
       "1    5636.0    5690.0    5714.0\n",
       "2    4068.0    4106.0    4141.0\n",
       "3   10484.0   10492.0   10580.0\n",
       "4   10671.0   10770.0   10782.0"
      ]
     },
     "execution_count": 82,
     "metadata": {},
     "output_type": "execute_result"
    }
   ],
   "source": [
    "pred_rf1,pred_rf2,pred_rf3 = [rf_quantile(rf, X_test, q) for q in QUANTILES]\n",
    "df_pred_rf = pd.DataFrame(pred_rf1)\n",
    "df_pred_rf.rename(columns={0:'pred_rf1'},inplace=True)\n",
    "df_pred_rf['pred_rf2'] = pred_rf2\n",
    "df_pred_rf['pred_rf3'] = pred_rf3\n",
    "df_pred_rf.head()"
   ]
  },
  {
   "cell_type": "code",
   "execution_count": 85,
   "id": "fa403fea",
   "metadata": {
    "ExecuteTime": {
     "end_time": "2022-09-25T20:14:29.736128Z",
     "start_time": "2022-09-25T20:14:29.680050Z"
    },
    "scrolled": true
   },
   "outputs": [
    {
     "data": {
      "text/html": [
       "<div>\n",
       "<style scoped>\n",
       "    .dataframe tbody tr th:only-of-type {\n",
       "        vertical-align: middle;\n",
       "    }\n",
       "\n",
       "    .dataframe tbody tr th {\n",
       "        vertical-align: top;\n",
       "    }\n",
       "\n",
       "    .dataframe thead th {\n",
       "        text-align: right;\n",
       "    }\n",
       "</style>\n",
       "<table border=\"1\" class=\"dataframe\">\n",
       "  <thead>\n",
       "    <tr style=\"text-align: right;\">\n",
       "      <th></th>\n",
       "      <th>date</th>\n",
       "      <th>my_way</th>\n",
       "      <th>paper_ticket</th>\n",
       "      <th>total</th>\n",
       "      <th>Pred_RF_P10</th>\n",
       "      <th>Pred_RF_P50</th>\n",
       "      <th>Pred_RF_p90</th>\n",
       "    </tr>\n",
       "  </thead>\n",
       "  <tbody>\n",
       "    <tr>\n",
       "      <th>0</th>\n",
       "      <td>2019-04-22</td>\n",
       "      <td>4075</td>\n",
       "      <td>1418</td>\n",
       "      <td>5493</td>\n",
       "      <td>11206.0</td>\n",
       "      <td>11239.0</td>\n",
       "      <td>11372.0</td>\n",
       "    </tr>\n",
       "    <tr>\n",
       "      <th>1</th>\n",
       "      <td>2019-04-23</td>\n",
       "      <td>8134</td>\n",
       "      <td>1018</td>\n",
       "      <td>9152</td>\n",
       "      <td>5636.0</td>\n",
       "      <td>5690.0</td>\n",
       "      <td>5714.0</td>\n",
       "    </tr>\n",
       "    <tr>\n",
       "      <th>2</th>\n",
       "      <td>2019-04-24</td>\n",
       "      <td>9518</td>\n",
       "      <td>1147</td>\n",
       "      <td>10665</td>\n",
       "      <td>4068.0</td>\n",
       "      <td>4106.0</td>\n",
       "      <td>4141.0</td>\n",
       "    </tr>\n",
       "    <tr>\n",
       "      <th>3</th>\n",
       "      <td>2019-04-25</td>\n",
       "      <td>4866</td>\n",
       "      <td>1313</td>\n",
       "      <td>6179</td>\n",
       "      <td>10484.0</td>\n",
       "      <td>10492.0</td>\n",
       "      <td>10580.0</td>\n",
       "    </tr>\n",
       "    <tr>\n",
       "      <th>4</th>\n",
       "      <td>2019-04-26</td>\n",
       "      <td>9074</td>\n",
       "      <td>1143</td>\n",
       "      <td>10217</td>\n",
       "      <td>10671.0</td>\n",
       "      <td>10770.0</td>\n",
       "      <td>10782.0</td>\n",
       "    </tr>\n",
       "  </tbody>\n",
       "</table>\n",
       "</div>"
      ],
      "text/plain": [
       "        date  my_way  paper_ticket  total  Pred_RF_P10  Pred_RF_P50  \\\n",
       "0 2019-04-22    4075          1418   5493      11206.0      11239.0   \n",
       "1 2019-04-23    8134          1018   9152       5636.0       5690.0   \n",
       "2 2019-04-24    9518          1147  10665       4068.0       4106.0   \n",
       "3 2019-04-25    4866          1313   6179      10484.0      10492.0   \n",
       "4 2019-04-26    9074          1143  10217      10671.0      10770.0   \n",
       "\n",
       "   Pred_RF_p90  \n",
       "0      11372.0  \n",
       "1       5714.0  \n",
       "2       4141.0  \n",
       "3      10580.0  \n",
       "4      10782.0  "
      ]
     },
     "execution_count": 85,
     "metadata": {},
     "output_type": "execute_result"
    }
   ],
   "source": [
    "for i,row in df_pred_rf.iterrows():\n",
    "        df_copy.loc[i,'Pred_RF_P10'] = row['pred_rf1']\n",
    "        df_copy.loc[i,'Pred_RF_P50'] = row['pred_rf2']\n",
    "        df_copy.loc[i,'Pred_RF_p90'] = row['pred_rf3']\n",
    "df_copy.head()"
   ]
  },
  {
   "cell_type": "markdown",
   "id": "2e9fb5d4",
   "metadata": {},
   "source": [
    "## Gradient Boosting Model"
   ]
  },
  {
   "cell_type": "code",
   "execution_count": 197,
   "id": "90659911",
   "metadata": {
    "ExecuteTime": {
     "end_time": "2022-09-26T05:18:50.184563Z",
     "start_time": "2022-09-26T05:18:50.168491Z"
    }
   },
   "outputs": [
    {
     "data": {
      "text/html": [
       "<style>#sk-container-id-5 {color: black;background-color: white;}#sk-container-id-5 pre{padding: 0;}#sk-container-id-5 div.sk-toggleable {background-color: white;}#sk-container-id-5 label.sk-toggleable__label {cursor: pointer;display: block;width: 100%;margin-bottom: 0;padding: 0.3em;box-sizing: border-box;text-align: center;}#sk-container-id-5 label.sk-toggleable__label-arrow:before {content: \"▸\";float: left;margin-right: 0.25em;color: #696969;}#sk-container-id-5 label.sk-toggleable__label-arrow:hover:before {color: black;}#sk-container-id-5 div.sk-estimator:hover label.sk-toggleable__label-arrow:before {color: black;}#sk-container-id-5 div.sk-toggleable__content {max-height: 0;max-width: 0;overflow: hidden;text-align: left;background-color: #f0f8ff;}#sk-container-id-5 div.sk-toggleable__content pre {margin: 0.2em;color: black;border-radius: 0.25em;background-color: #f0f8ff;}#sk-container-id-5 input.sk-toggleable__control:checked~div.sk-toggleable__content {max-height: 200px;max-width: 100%;overflow: auto;}#sk-container-id-5 input.sk-toggleable__control:checked~label.sk-toggleable__label-arrow:before {content: \"▾\";}#sk-container-id-5 div.sk-estimator input.sk-toggleable__control:checked~label.sk-toggleable__label {background-color: #d4ebff;}#sk-container-id-5 div.sk-label input.sk-toggleable__control:checked~label.sk-toggleable__label {background-color: #d4ebff;}#sk-container-id-5 input.sk-hidden--visually {border: 0;clip: rect(1px 1px 1px 1px);clip: rect(1px, 1px, 1px, 1px);height: 1px;margin: -1px;overflow: hidden;padding: 0;position: absolute;width: 1px;}#sk-container-id-5 div.sk-estimator {font-family: monospace;background-color: #f0f8ff;border: 1px dotted black;border-radius: 0.25em;box-sizing: border-box;margin-bottom: 0.5em;}#sk-container-id-5 div.sk-estimator:hover {background-color: #d4ebff;}#sk-container-id-5 div.sk-parallel-item::after {content: \"\";width: 100%;border-bottom: 1px solid gray;flex-grow: 1;}#sk-container-id-5 div.sk-label:hover label.sk-toggleable__label {background-color: #d4ebff;}#sk-container-id-5 div.sk-serial::before {content: \"\";position: absolute;border-left: 1px solid gray;box-sizing: border-box;top: 0;bottom: 0;left: 50%;z-index: 0;}#sk-container-id-5 div.sk-serial {display: flex;flex-direction: column;align-items: center;background-color: white;padding-right: 0.2em;padding-left: 0.2em;position: relative;}#sk-container-id-5 div.sk-item {position: relative;z-index: 1;}#sk-container-id-5 div.sk-parallel {display: flex;align-items: stretch;justify-content: center;background-color: white;position: relative;}#sk-container-id-5 div.sk-item::before, #sk-container-id-5 div.sk-parallel-item::before {content: \"\";position: absolute;border-left: 1px solid gray;box-sizing: border-box;top: 0;bottom: 0;left: 50%;z-index: -1;}#sk-container-id-5 div.sk-parallel-item {display: flex;flex-direction: column;z-index: 1;position: relative;background-color: white;}#sk-container-id-5 div.sk-parallel-item:first-child::after {align-self: flex-end;width: 50%;}#sk-container-id-5 div.sk-parallel-item:last-child::after {align-self: flex-start;width: 50%;}#sk-container-id-5 div.sk-parallel-item:only-child::after {width: 0;}#sk-container-id-5 div.sk-dashed-wrapped {border: 1px dashed gray;margin: 0 0.4em 0.5em 0.4em;box-sizing: border-box;padding-bottom: 0.4em;background-color: white;}#sk-container-id-5 div.sk-label label {font-family: monospace;font-weight: bold;display: inline-block;line-height: 1.2em;}#sk-container-id-5 div.sk-label-container {text-align: center;}#sk-container-id-5 div.sk-container {/* jupyter's `normalize.less` sets `[hidden] { display: none; }` but bootstrap.min.css set `[hidden] { display: none !important; }` so we also need the `!important` here to be able to override the default hidden behavior on the sphinx rendered scikit-learn.org. See: https://github.com/scikit-learn/scikit-learn/issues/21755 */display: inline-block !important;position: relative;}#sk-container-id-5 div.sk-text-repr-fallback {display: none;}</style><div id=\"sk-container-id-5\" class=\"sk-top-container\"><div class=\"sk-text-repr-fallback\"><pre>GradientBoostingRegressor(loss=&#x27;quantile&#x27;)</pre><b>In a Jupyter environment, please rerun this cell to show the HTML representation or trust the notebook. <br />On GitHub, the HTML representation is unable to render, please try loading this page with nbviewer.org.</b></div><div class=\"sk-container\" hidden><div class=\"sk-item\"><div class=\"sk-estimator sk-toggleable\"><input class=\"sk-toggleable__control sk-hidden--visually\" id=\"sk-estimator-id-5\" type=\"checkbox\" checked><label for=\"sk-estimator-id-5\" class=\"sk-toggleable__label sk-toggleable__label-arrow\">GradientBoostingRegressor</label><div class=\"sk-toggleable__content\"><pre>GradientBoostingRegressor(loss=&#x27;quantile&#x27;)</pre></div></div></div></div></div>"
      ],
      "text/plain": [
       "GradientBoostingRegressor(loss='quantile')"
      ]
     },
     "execution_count": 197,
     "metadata": {},
     "output_type": "execute_result"
    }
   ],
   "source": [
    "gb = GradientBoostingRegressor(loss='quantile')\n",
    "gb"
   ]
  },
  {
   "cell_type": "code",
   "execution_count": 196,
   "id": "3f8d1ff8",
   "metadata": {
    "ExecuteTime": {
     "end_time": "2022-09-26T05:18:15.132308Z",
     "start_time": "2022-09-26T05:18:15.114294Z"
    }
   },
   "outputs": [],
   "source": [
    "def gb_quantile(X_train, train_labels, X, q):\n",
    "    gbf = GradientBoostingRegressor(loss='quantile', alpha=q)\n",
    "    gbf.fit(X_train, train_labels)\n",
    "    return gbf.predict(X)"
   ]
  },
  {
   "cell_type": "code",
   "execution_count": 106,
   "id": "af7a2829",
   "metadata": {
    "ExecuteTime": {
     "end_time": "2022-09-26T03:10:19.093136Z",
     "start_time": "2022-09-26T03:10:18.313492Z"
    },
    "scrolled": true
   },
   "outputs": [
    {
     "data": {
      "text/html": [
       "<div>\n",
       "<style scoped>\n",
       "    .dataframe tbody tr th:only-of-type {\n",
       "        vertical-align: middle;\n",
       "    }\n",
       "\n",
       "    .dataframe tbody tr th {\n",
       "        vertical-align: top;\n",
       "    }\n",
       "\n",
       "    .dataframe thead th {\n",
       "        text-align: right;\n",
       "    }\n",
       "</style>\n",
       "<table border=\"1\" class=\"dataframe\">\n",
       "  <thead>\n",
       "    <tr style=\"text-align: right;\">\n",
       "      <th></th>\n",
       "      <th>pred_gb1</th>\n",
       "      <th>pred_gf2</th>\n",
       "      <th>pred_gf3</th>\n",
       "    </tr>\n",
       "  </thead>\n",
       "  <tbody>\n",
       "    <tr>\n",
       "      <th>0</th>\n",
       "      <td>10709.742131</td>\n",
       "      <td>11194.495828</td>\n",
       "      <td>11458.030925</td>\n",
       "    </tr>\n",
       "    <tr>\n",
       "      <th>1</th>\n",
       "      <td>5607.634420</td>\n",
       "      <td>5562.008618</td>\n",
       "      <td>5669.181516</td>\n",
       "    </tr>\n",
       "    <tr>\n",
       "      <th>2</th>\n",
       "      <td>3941.287710</td>\n",
       "      <td>4113.563281</td>\n",
       "      <td>4816.590830</td>\n",
       "    </tr>\n",
       "    <tr>\n",
       "      <th>3</th>\n",
       "      <td>8495.589131</td>\n",
       "      <td>10555.346584</td>\n",
       "      <td>10632.223477</td>\n",
       "    </tr>\n",
       "    <tr>\n",
       "      <th>4</th>\n",
       "      <td>8469.731103</td>\n",
       "      <td>10773.978203</td>\n",
       "      <td>10734.341494</td>\n",
       "    </tr>\n",
       "  </tbody>\n",
       "</table>\n",
       "</div>"
      ],
      "text/plain": [
       "       pred_gb1      pred_gf2      pred_gf3\n",
       "0  10709.742131  11194.495828  11458.030925\n",
       "1   5607.634420   5562.008618   5669.181516\n",
       "2   3941.287710   4113.563281   4816.590830\n",
       "3   8495.589131  10555.346584  10632.223477\n",
       "4   8469.731103  10773.978203  10734.341494"
      ]
     },
     "execution_count": 106,
     "metadata": {},
     "output_type": "execute_result"
    }
   ],
   "source": [
    "pred_gb1,pred_gb2,pred_gb3 = [gb_quantile(X_train, y_train, X_test, q) for q in QUANTILES]\n",
    "df_pred_gb = pd.DataFrame(pred_gb1)\n",
    "df_pred_gb.rename(columns={0:'pred_gb1'},inplace=True)\n",
    "df_pred_gb['pred_gf2'] = pred_gb2\n",
    "df_pred_gb['pred_gf3'] = pred_gb3\n",
    "df_pred_gb.head()"
   ]
  },
  {
   "cell_type": "code",
   "execution_count": 108,
   "id": "9ced1479",
   "metadata": {
    "ExecuteTime": {
     "end_time": "2022-09-26T03:11:03.546274Z",
     "start_time": "2022-09-26T03:11:03.482269Z"
    },
    "scrolled": true
   },
   "outputs": [
    {
     "data": {
      "text/html": [
       "<div>\n",
       "<style scoped>\n",
       "    .dataframe tbody tr th:only-of-type {\n",
       "        vertical-align: middle;\n",
       "    }\n",
       "\n",
       "    .dataframe tbody tr th {\n",
       "        vertical-align: top;\n",
       "    }\n",
       "\n",
       "    .dataframe thead th {\n",
       "        text-align: right;\n",
       "    }\n",
       "</style>\n",
       "<table border=\"1\" class=\"dataframe\">\n",
       "  <thead>\n",
       "    <tr style=\"text-align: right;\">\n",
       "      <th></th>\n",
       "      <th>date</th>\n",
       "      <th>my_way</th>\n",
       "      <th>paper_ticket</th>\n",
       "      <th>total</th>\n",
       "      <th>Pred_RF_P10</th>\n",
       "      <th>Pred_RF_P50</th>\n",
       "      <th>Pred_RF_p90</th>\n",
       "      <th>Pred_GB_P10</th>\n",
       "      <th>Pred_GB_P50</th>\n",
       "      <th>Pred_GB_p90</th>\n",
       "    </tr>\n",
       "  </thead>\n",
       "  <tbody>\n",
       "    <tr>\n",
       "      <th>0</th>\n",
       "      <td>2019-04-22</td>\n",
       "      <td>4075</td>\n",
       "      <td>1418</td>\n",
       "      <td>5493</td>\n",
       "      <td>11206.0</td>\n",
       "      <td>11239.0</td>\n",
       "      <td>11372.0</td>\n",
       "      <td>10709.742131</td>\n",
       "      <td>11194.495828</td>\n",
       "      <td>11458.030925</td>\n",
       "    </tr>\n",
       "    <tr>\n",
       "      <th>1</th>\n",
       "      <td>2019-04-23</td>\n",
       "      <td>8134</td>\n",
       "      <td>1018</td>\n",
       "      <td>9152</td>\n",
       "      <td>5636.0</td>\n",
       "      <td>5690.0</td>\n",
       "      <td>5714.0</td>\n",
       "      <td>5607.634420</td>\n",
       "      <td>5562.008618</td>\n",
       "      <td>5669.181516</td>\n",
       "    </tr>\n",
       "    <tr>\n",
       "      <th>2</th>\n",
       "      <td>2019-04-24</td>\n",
       "      <td>9518</td>\n",
       "      <td>1147</td>\n",
       "      <td>10665</td>\n",
       "      <td>4068.0</td>\n",
       "      <td>4106.0</td>\n",
       "      <td>4141.0</td>\n",
       "      <td>3941.287710</td>\n",
       "      <td>4113.563281</td>\n",
       "      <td>4816.590830</td>\n",
       "    </tr>\n",
       "    <tr>\n",
       "      <th>3</th>\n",
       "      <td>2019-04-25</td>\n",
       "      <td>4866</td>\n",
       "      <td>1313</td>\n",
       "      <td>6179</td>\n",
       "      <td>10484.0</td>\n",
       "      <td>10492.0</td>\n",
       "      <td>10580.0</td>\n",
       "      <td>8495.589131</td>\n",
       "      <td>10555.346584</td>\n",
       "      <td>10632.223477</td>\n",
       "    </tr>\n",
       "    <tr>\n",
       "      <th>4</th>\n",
       "      <td>2019-04-26</td>\n",
       "      <td>9074</td>\n",
       "      <td>1143</td>\n",
       "      <td>10217</td>\n",
       "      <td>10671.0</td>\n",
       "      <td>10770.0</td>\n",
       "      <td>10782.0</td>\n",
       "      <td>8469.731103</td>\n",
       "      <td>10773.978203</td>\n",
       "      <td>10734.341494</td>\n",
       "    </tr>\n",
       "  </tbody>\n",
       "</table>\n",
       "</div>"
      ],
      "text/plain": [
       "        date  my_way  paper_ticket  total  Pred_RF_P10  Pred_RF_P50  \\\n",
       "0 2019-04-22    4075          1418   5493      11206.0      11239.0   \n",
       "1 2019-04-23    8134          1018   9152       5636.0       5690.0   \n",
       "2 2019-04-24    9518          1147  10665       4068.0       4106.0   \n",
       "3 2019-04-25    4866          1313   6179      10484.0      10492.0   \n",
       "4 2019-04-26    9074          1143  10217      10671.0      10770.0   \n",
       "\n",
       "   Pred_RF_p90   Pred_GB_P10   Pred_GB_P50   Pred_GB_p90  \n",
       "0      11372.0  10709.742131  11194.495828  11458.030925  \n",
       "1       5714.0   5607.634420   5562.008618   5669.181516  \n",
       "2       4141.0   3941.287710   4113.563281   4816.590830  \n",
       "3      10580.0   8495.589131  10555.346584  10632.223477  \n",
       "4      10782.0   8469.731103  10773.978203  10734.341494  "
      ]
     },
     "execution_count": 108,
     "metadata": {},
     "output_type": "execute_result"
    }
   ],
   "source": [
    "for i,row in df_pred_gb.iterrows():\n",
    "        df_copy.loc[i,'Pred_GB_P10'] = row['pred_gb1']\n",
    "        df_copy.loc[i,'Pred_GB_P50'] = row['pred_gf2']\n",
    "        df_copy.loc[i,'Pred_GB_p90'] = row['pred_gf3']\n",
    "df_copy.head()"
   ]
  },
  {
   "cell_type": "code",
   "execution_count": 124,
   "id": "4bbb5073",
   "metadata": {
    "ExecuteTime": {
     "end_time": "2022-09-26T04:20:10.492723Z",
     "start_time": "2022-09-26T04:20:10.474724Z"
    }
   },
   "outputs": [
    {
     "data": {
      "text/plain": [
       "1243"
      ]
     },
     "execution_count": 124,
     "metadata": {},
     "output_type": "execute_result"
    }
   ],
   "source": [
    "len(df_copy)"
   ]
  },
  {
   "cell_type": "markdown",
   "id": "367738de",
   "metadata": {},
   "source": [
    "## Calculate Quantile Loss"
   ]
  },
  {
   "cell_type": "code",
   "execution_count": 109,
   "id": "180f0511",
   "metadata": {
    "ExecuteTime": {
     "end_time": "2022-09-26T03:17:07.450927Z",
     "start_time": "2022-09-26T03:17:07.444037Z"
    }
   },
   "outputs": [],
   "source": [
    "# pandas version rather than Keras.\n",
    "def quantile_loss(q, y, f):\n",
    "    # q: Quantile to be evaluated, e.g., 0.5 for median.\n",
    "    # y: True value.\n",
    "    # f: Fitted or predicted value.\n",
    "    e = y - f\n",
    "    return np.maximum(q * e, (q - 1) * e)"
   ]
  },
  {
   "cell_type": "code",
   "execution_count": 125,
   "id": "460b481e",
   "metadata": {
    "ExecuteTime": {
     "end_time": "2022-09-26T04:22:41.472302Z",
     "start_time": "2022-09-26T04:22:41.451265Z"
    }
   },
   "outputs": [],
   "source": [
    "quantile_loss_rf_p10 = quantile_loss(0.10,df_copy['total'],df_copy['Pred_RF_P10'])\n",
    "quantile_loss_rf_p50 = quantile_loss(0.50,df_copy['total'],df_copy['Pred_RF_P50'])\n",
    "quantile_loss_rf_p90 = quantile_loss(0.90,df_copy['total'],df_copy['Pred_RF_p90'])"
   ]
  },
  {
   "cell_type": "code",
   "execution_count": 126,
   "id": "f027d6db",
   "metadata": {
    "ExecuteTime": {
     "end_time": "2022-09-26T04:22:42.086041Z",
     "start_time": "2022-09-26T04:22:42.078038Z"
    }
   },
   "outputs": [],
   "source": [
    "quantile_loss_gb_p10 = quantile_loss(0.10,df_copy['total'],df_copy['Pred_GB_P10'])\n",
    "quantile_loss_gb_p50 = quantile_loss(0.50,df_copy['total'],df_copy['Pred_GB_P50'])\n",
    "quantile_loss_gb_p90 = quantile_loss(0.90,df_copy['total'],df_copy['Pred_GB_p90'])"
   ]
  },
  {
   "cell_type": "code",
   "execution_count": 127,
   "id": "162230fa",
   "metadata": {
    "ExecuteTime": {
     "end_time": "2022-09-26T04:22:48.329465Z",
     "start_time": "2022-09-26T04:22:48.312427Z"
    }
   },
   "outputs": [
    {
     "data": {
      "text/plain": [
       "1243"
      ]
     },
     "execution_count": 127,
     "metadata": {},
     "output_type": "execute_result"
    }
   ],
   "source": [
    "len(quantile_loss_gb_p10)"
   ]
  },
  {
   "cell_type": "code",
   "execution_count": 132,
   "id": "28cdb25b",
   "metadata": {
    "ExecuteTime": {
     "end_time": "2022-09-26T04:24:42.687477Z",
     "start_time": "2022-09-26T04:24:42.672474Z"
    }
   },
   "outputs": [
    {
     "data": {
      "text/plain": [
       "0       5141.7\n",
       "1        351.6\n",
       "2        659.7\n",
       "3       3874.5\n",
       "4        408.6\n",
       "         ...  \n",
       "1238       NaN\n",
       "1239       NaN\n",
       "1240       NaN\n",
       "1241       NaN\n",
       "1242       NaN\n",
       "Length: 1243, dtype: float64"
      ]
     },
     "execution_count": 132,
     "metadata": {},
     "output_type": "execute_result"
    }
   ],
   "source": [
    "quantile_loss_rf_p10"
   ]
  },
  {
   "cell_type": "code",
   "execution_count": 128,
   "id": "9b52d042",
   "metadata": {
    "ExecuteTime": {
     "end_time": "2022-09-26T04:22:51.941248Z",
     "start_time": "2022-09-26T04:22:51.920251Z"
    }
   },
   "outputs": [
    {
     "data": {
      "text/plain": [
       "0       5141.7\n",
       "1        351.6\n",
       "2        659.7\n",
       "3       3874.5\n",
       "4        408.6\n",
       "         ...  \n",
       "1238       NaN\n",
       "1239       NaN\n",
       "1240       NaN\n",
       "1241       NaN\n",
       "1242       NaN\n",
       "Length: 3729, dtype: float64"
      ]
     },
     "execution_count": 128,
     "metadata": {},
     "output_type": "execute_result"
    }
   ],
   "source": [
    "pd.concat([quantile_loss_rf_p10,quantile_loss_rf_p50,quantile_loss_rf_p90])"
   ]
  },
  {
   "cell_type": "code",
   "execution_count": 142,
   "id": "5b9e16e6",
   "metadata": {
    "ExecuteTime": {
     "end_time": "2022-09-26T04:29:27.938946Z",
     "start_time": "2022-09-26T04:29:27.927675Z"
    }
   },
   "outputs": [],
   "source": [
    "pred_quantile_losses = pd.concat([df_copy['total'],quantile_loss_rf_p10,quantile_loss_rf_p50,quantile_loss_rf_p90,quantile_loss_gb_p10,quantile_loss_gb_p50,quantile_loss_gb_p90],axis=1)\n",
    "pred_quantile_losses.rename(columns={0:'quantile_loss_rf_p10',1:'quantile_loss_rf_p50',2:'quantile_loss_rf_p90',3:'quantile_loss_gb_p10',4:'quantile_loss_gb_p50',5:'quantile_loss_gb_p90'},inplace=True)"
   ]
  },
  {
   "cell_type": "code",
   "execution_count": 143,
   "id": "adc9640d",
   "metadata": {
    "ExecuteTime": {
     "end_time": "2022-09-26T04:29:28.384135Z",
     "start_time": "2022-09-26T04:29:28.364130Z"
    }
   },
   "outputs": [
    {
     "data": {
      "text/html": [
       "<div>\n",
       "<style scoped>\n",
       "    .dataframe tbody tr th:only-of-type {\n",
       "        vertical-align: middle;\n",
       "    }\n",
       "\n",
       "    .dataframe tbody tr th {\n",
       "        vertical-align: top;\n",
       "    }\n",
       "\n",
       "    .dataframe thead th {\n",
       "        text-align: right;\n",
       "    }\n",
       "</style>\n",
       "<table border=\"1\" class=\"dataframe\">\n",
       "  <thead>\n",
       "    <tr style=\"text-align: right;\">\n",
       "      <th></th>\n",
       "      <th>total</th>\n",
       "      <th>quantile_loss_rf_p10</th>\n",
       "      <th>quantile_loss_rf_p50</th>\n",
       "      <th>quantile_loss_rf_p90</th>\n",
       "      <th>quantile_loss_gb_p10</th>\n",
       "      <th>quantile_loss_gb_p50</th>\n",
       "      <th>quantile_loss_gb_p90</th>\n",
       "    </tr>\n",
       "  </thead>\n",
       "  <tbody>\n",
       "    <tr>\n",
       "      <th>0</th>\n",
       "      <td>5493</td>\n",
       "      <td>5141.7</td>\n",
       "      <td>2873.0</td>\n",
       "      <td>587.9</td>\n",
       "      <td>4695.067918</td>\n",
       "      <td>2850.747914</td>\n",
       "      <td>596.503093</td>\n",
       "    </tr>\n",
       "    <tr>\n",
       "      <th>1</th>\n",
       "      <td>9152</td>\n",
       "      <td>351.6</td>\n",
       "      <td>1731.0</td>\n",
       "      <td>3094.2</td>\n",
       "      <td>354.436558</td>\n",
       "      <td>1794.995691</td>\n",
       "      <td>3134.536635</td>\n",
       "    </tr>\n",
       "    <tr>\n",
       "      <th>2</th>\n",
       "      <td>10665</td>\n",
       "      <td>659.7</td>\n",
       "      <td>3279.5</td>\n",
       "      <td>5871.6</td>\n",
       "      <td>672.371229</td>\n",
       "      <td>3275.718360</td>\n",
       "      <td>5263.568253</td>\n",
       "    </tr>\n",
       "    <tr>\n",
       "      <th>3</th>\n",
       "      <td>6179</td>\n",
       "      <td>3874.5</td>\n",
       "      <td>2156.5</td>\n",
       "      <td>440.1</td>\n",
       "      <td>2084.930218</td>\n",
       "      <td>2188.173292</td>\n",
       "      <td>445.322348</td>\n",
       "    </tr>\n",
       "    <tr>\n",
       "      <th>4</th>\n",
       "      <td>10217</td>\n",
       "      <td>408.6</td>\n",
       "      <td>276.5</td>\n",
       "      <td>56.5</td>\n",
       "      <td>174.726890</td>\n",
       "      <td>278.489102</td>\n",
       "      <td>51.734149</td>\n",
       "    </tr>\n",
       "  </tbody>\n",
       "</table>\n",
       "</div>"
      ],
      "text/plain": [
       "   total  quantile_loss_rf_p10  quantile_loss_rf_p50  quantile_loss_rf_p90  \\\n",
       "0   5493                5141.7                2873.0                 587.9   \n",
       "1   9152                 351.6                1731.0                3094.2   \n",
       "2  10665                 659.7                3279.5                5871.6   \n",
       "3   6179                3874.5                2156.5                 440.1   \n",
       "4  10217                 408.6                 276.5                  56.5   \n",
       "\n",
       "   quantile_loss_gb_p10  quantile_loss_gb_p50  quantile_loss_gb_p90  \n",
       "0           4695.067918           2850.747914            596.503093  \n",
       "1            354.436558           1794.995691           3134.536635  \n",
       "2            672.371229           3275.718360           5263.568253  \n",
       "3           2084.930218           2188.173292            445.322348  \n",
       "4            174.726890            278.489102             51.734149  "
      ]
     },
     "execution_count": 143,
     "metadata": {},
     "output_type": "execute_result"
    }
   ],
   "source": [
    "pred_quantile_losses.head()"
   ]
  },
  {
   "cell_type": "code",
   "execution_count": 144,
   "id": "918ea808",
   "metadata": {
    "ExecuteTime": {
     "end_time": "2022-09-26T04:29:36.095409Z",
     "start_time": "2022-09-26T04:29:36.086405Z"
    }
   },
   "outputs": [
    {
     "data": {
      "text/plain": [
       "total                      0\n",
       "quantile_loss_rf_p10    1150\n",
       "quantile_loss_rf_p50    1150\n",
       "quantile_loss_rf_p90    1150\n",
       "quantile_loss_gb_p10    1150\n",
       "quantile_loss_gb_p50    1150\n",
       "quantile_loss_gb_p90    1150\n",
       "dtype: int64"
      ]
     },
     "execution_count": 144,
     "metadata": {},
     "output_type": "execute_result"
    }
   ],
   "source": [
    "pred_quantile_losses.isnull().sum()"
   ]
  },
  {
   "cell_type": "code",
   "execution_count": 145,
   "id": "823c6c90",
   "metadata": {
    "ExecuteTime": {
     "end_time": "2022-09-26T04:29:55.340330Z",
     "start_time": "2022-09-26T04:29:55.332286Z"
    }
   },
   "outputs": [
    {
     "data": {
      "text/plain": [
       "(1243, 7)"
      ]
     },
     "execution_count": 145,
     "metadata": {},
     "output_type": "execute_result"
    }
   ],
   "source": [
    "pred_quantile_losses.shape"
   ]
  },
  {
   "cell_type": "code",
   "execution_count": 157,
   "id": "d223d27e",
   "metadata": {
    "ExecuteTime": {
     "end_time": "2022-09-26T04:37:02.974249Z",
     "start_time": "2022-09-26T04:37:02.947250Z"
    }
   },
   "outputs": [
    {
     "data": {
      "text/html": [
       "<div>\n",
       "<style scoped>\n",
       "    .dataframe tbody tr th:only-of-type {\n",
       "        vertical-align: middle;\n",
       "    }\n",
       "\n",
       "    .dataframe tbody tr th {\n",
       "        vertical-align: top;\n",
       "    }\n",
       "\n",
       "    .dataframe thead th {\n",
       "        text-align: right;\n",
       "    }\n",
       "</style>\n",
       "<table border=\"1\" class=\"dataframe\">\n",
       "  <thead>\n",
       "    <tr style=\"text-align: right;\">\n",
       "      <th></th>\n",
       "      <th>total</th>\n",
       "      <th>quantile_loss_rf_p10</th>\n",
       "      <th>quantile_loss_rf_p50</th>\n",
       "      <th>quantile_loss_rf_p90</th>\n",
       "      <th>quantile_loss_gb_p10</th>\n",
       "      <th>quantile_loss_gb_p50</th>\n",
       "      <th>quantile_loss_gb_p90</th>\n",
       "    </tr>\n",
       "  </thead>\n",
       "  <tbody>\n",
       "    <tr>\n",
       "      <th>0</th>\n",
       "      <td>5493</td>\n",
       "      <td>5141.7</td>\n",
       "      <td>2873.0</td>\n",
       "      <td>587.90</td>\n",
       "      <td>4695.067918</td>\n",
       "      <td>2850.747914</td>\n",
       "      <td>596.503093</td>\n",
       "    </tr>\n",
       "    <tr>\n",
       "      <th>1</th>\n",
       "      <td>9152</td>\n",
       "      <td>351.6</td>\n",
       "      <td>1731.0</td>\n",
       "      <td>3094.20</td>\n",
       "      <td>354.436558</td>\n",
       "      <td>1794.995691</td>\n",
       "      <td>3134.536635</td>\n",
       "    </tr>\n",
       "    <tr>\n",
       "      <th>2</th>\n",
       "      <td>10665</td>\n",
       "      <td>659.7</td>\n",
       "      <td>3279.5</td>\n",
       "      <td>5871.60</td>\n",
       "      <td>672.371229</td>\n",
       "      <td>3275.718360</td>\n",
       "      <td>5263.568253</td>\n",
       "    </tr>\n",
       "    <tr>\n",
       "      <th>3</th>\n",
       "      <td>6179</td>\n",
       "      <td>3874.5</td>\n",
       "      <td>2156.5</td>\n",
       "      <td>440.10</td>\n",
       "      <td>2084.930218</td>\n",
       "      <td>2188.173292</td>\n",
       "      <td>445.322348</td>\n",
       "    </tr>\n",
       "    <tr>\n",
       "      <th>4</th>\n",
       "      <td>10217</td>\n",
       "      <td>408.6</td>\n",
       "      <td>276.5</td>\n",
       "      <td>56.50</td>\n",
       "      <td>174.726890</td>\n",
       "      <td>278.489102</td>\n",
       "      <td>51.734149</td>\n",
       "    </tr>\n",
       "    <tr>\n",
       "      <th>...</th>\n",
       "      <td>...</td>\n",
       "      <td>...</td>\n",
       "      <td>...</td>\n",
       "      <td>...</td>\n",
       "      <td>...</td>\n",
       "      <td>...</td>\n",
       "      <td>...</td>\n",
       "    </tr>\n",
       "    <tr>\n",
       "      <th>88</th>\n",
       "      <td>14360</td>\n",
       "      <td>243.0</td>\n",
       "      <td>1131.0</td>\n",
       "      <td>2017.26</td>\n",
       "      <td>234.931128</td>\n",
       "      <td>1159.709600</td>\n",
       "      <td>1975.538419</td>\n",
       "    </tr>\n",
       "    <tr>\n",
       "      <th>89</th>\n",
       "      <td>8145</td>\n",
       "      <td>3378.6</td>\n",
       "      <td>1884.5</td>\n",
       "      <td>389.36</td>\n",
       "      <td>3355.264592</td>\n",
       "      <td>1947.790400</td>\n",
       "      <td>372.092705</td>\n",
       "    </tr>\n",
       "    <tr>\n",
       "      <th>90</th>\n",
       "      <td>6034</td>\n",
       "      <td>4428.9</td>\n",
       "      <td>2496.5</td>\n",
       "      <td>499.70</td>\n",
       "      <td>2898.800218</td>\n",
       "      <td>2543.458672</td>\n",
       "      <td>502.295410</td>\n",
       "    </tr>\n",
       "    <tr>\n",
       "      <th>91</th>\n",
       "      <td>15294</td>\n",
       "      <td>352.3</td>\n",
       "      <td>1732.0</td>\n",
       "      <td>3097.80</td>\n",
       "      <td>344.076574</td>\n",
       "      <td>1758.906113</td>\n",
       "      <td>3060.623905</td>\n",
       "    </tr>\n",
       "    <tr>\n",
       "      <th>92</th>\n",
       "      <td>16066</td>\n",
       "      <td>992.3</td>\n",
       "      <td>4875.0</td>\n",
       "      <td>8579.70</td>\n",
       "      <td>975.148245</td>\n",
       "      <td>4810.505261</td>\n",
       "      <td>8651.945377</td>\n",
       "    </tr>\n",
       "  </tbody>\n",
       "</table>\n",
       "<p>93 rows × 7 columns</p>\n",
       "</div>"
      ],
      "text/plain": [
       "    total  quantile_loss_rf_p10  quantile_loss_rf_p50  quantile_loss_rf_p90  \\\n",
       "0    5493                5141.7                2873.0                587.90   \n",
       "1    9152                 351.6                1731.0               3094.20   \n",
       "2   10665                 659.7                3279.5               5871.60   \n",
       "3    6179                3874.5                2156.5                440.10   \n",
       "4   10217                 408.6                 276.5                 56.50   \n",
       "..    ...                   ...                   ...                   ...   \n",
       "88  14360                 243.0                1131.0               2017.26   \n",
       "89   8145                3378.6                1884.5                389.36   \n",
       "90   6034                4428.9                2496.5                499.70   \n",
       "91  15294                 352.3                1732.0               3097.80   \n",
       "92  16066                 992.3                4875.0               8579.70   \n",
       "\n",
       "    quantile_loss_gb_p10  quantile_loss_gb_p50  quantile_loss_gb_p90  \n",
       "0            4695.067918           2850.747914            596.503093  \n",
       "1             354.436558           1794.995691           3134.536635  \n",
       "2             672.371229           3275.718360           5263.568253  \n",
       "3            2084.930218           2188.173292            445.322348  \n",
       "4             174.726890            278.489102             51.734149  \n",
       "..                   ...                   ...                   ...  \n",
       "88            234.931128           1159.709600           1975.538419  \n",
       "89           3355.264592           1947.790400            372.092705  \n",
       "90           2898.800218           2543.458672            502.295410  \n",
       "91            344.076574           1758.906113           3060.623905  \n",
       "92            975.148245           4810.505261           8651.945377  \n",
       "\n",
       "[93 rows x 7 columns]"
      ]
     },
     "execution_count": 157,
     "metadata": {},
     "output_type": "execute_result"
    }
   ],
   "source": [
    "pred_quantile_losses[~pred_quantile_losses['quantile_loss_rf_p10'].isna()]"
   ]
  },
  {
   "cell_type": "code",
   "execution_count": 163,
   "id": "95930bd5",
   "metadata": {
    "ExecuteTime": {
     "end_time": "2022-09-26T04:38:31.048148Z",
     "start_time": "2022-09-26T04:38:31.022111Z"
    }
   },
   "outputs": [
    {
     "data": {
      "text/html": [
       "<div>\n",
       "<style scoped>\n",
       "    .dataframe tbody tr th:only-of-type {\n",
       "        vertical-align: middle;\n",
       "    }\n",
       "\n",
       "    .dataframe tbody tr th {\n",
       "        vertical-align: top;\n",
       "    }\n",
       "\n",
       "    .dataframe thead th {\n",
       "        text-align: right;\n",
       "    }\n",
       "</style>\n",
       "<table border=\"1\" class=\"dataframe\">\n",
       "  <thead>\n",
       "    <tr style=\"text-align: right;\">\n",
       "      <th></th>\n",
       "      <th>index</th>\n",
       "      <th>total</th>\n",
       "      <th>quantile_loss_rf_p10</th>\n",
       "      <th>quantile_loss_rf_p50</th>\n",
       "      <th>quantile_loss_rf_p90</th>\n",
       "      <th>quantile_loss_gb_p10</th>\n",
       "      <th>quantile_loss_gb_p50</th>\n",
       "      <th>quantile_loss_gb_p90</th>\n",
       "    </tr>\n",
       "  </thead>\n",
       "  <tbody>\n",
       "    <tr>\n",
       "      <th>0</th>\n",
       "      <td>83</td>\n",
       "      <td>4416</td>\n",
       "      <td>6111.00</td>\n",
       "      <td>3402.50</td>\n",
       "      <td>682.30</td>\n",
       "      <td>5527.477918</td>\n",
       "      <td>3363.482058</td>\n",
       "      <td>700.305047</td>\n",
       "    </tr>\n",
       "    <tr>\n",
       "      <th>1</th>\n",
       "      <td>49</td>\n",
       "      <td>4662</td>\n",
       "      <td>5906.70</td>\n",
       "      <td>3307.50</td>\n",
       "      <td>677.80</td>\n",
       "      <td>4867.543682</td>\n",
       "      <td>3297.686461</td>\n",
       "      <td>681.633370</td>\n",
       "    </tr>\n",
       "    <tr>\n",
       "      <th>2</th>\n",
       "      <td>62</td>\n",
       "      <td>5158</td>\n",
       "      <td>5443.20</td>\n",
       "      <td>3059.50</td>\n",
       "      <td>621.40</td>\n",
       "      <td>4996.567918</td>\n",
       "      <td>3025.633233</td>\n",
       "      <td>630.003093</td>\n",
       "    </tr>\n",
       "    <tr>\n",
       "      <th>3</th>\n",
       "      <td>55</td>\n",
       "      <td>5327</td>\n",
       "      <td>5148.90</td>\n",
       "      <td>2907.75</td>\n",
       "      <td>590.93</td>\n",
       "      <td>4151.483218</td>\n",
       "      <td>2907.982058</td>\n",
       "      <td>597.498095</td>\n",
       "    </tr>\n",
       "    <tr>\n",
       "      <th>4</th>\n",
       "      <td>76</td>\n",
       "      <td>5371</td>\n",
       "      <td>5741.10</td>\n",
       "      <td>3227.50</td>\n",
       "      <td>654.30</td>\n",
       "      <td>5777.743091</td>\n",
       "      <td>3165.559456</td>\n",
       "      <td>648.612705</td>\n",
       "    </tr>\n",
       "    <tr>\n",
       "      <th>...</th>\n",
       "      <td>...</td>\n",
       "      <td>...</td>\n",
       "      <td>...</td>\n",
       "      <td>...</td>\n",
       "      <td>...</td>\n",
       "      <td>...</td>\n",
       "      <td>...</td>\n",
       "      <td>...</td>\n",
       "    </tr>\n",
       "    <tr>\n",
       "      <th>88</th>\n",
       "      <td>31</td>\n",
       "      <td>18251</td>\n",
       "      <td>817.50</td>\n",
       "      <td>4082.50</td>\n",
       "      <td>7279.20</td>\n",
       "      <td>975.541087</td>\n",
       "      <td>3975.851413</td>\n",
       "      <td>6979.976112</td>\n",
       "    </tr>\n",
       "    <tr>\n",
       "      <th>89</th>\n",
       "      <td>23</td>\n",
       "      <td>18417</td>\n",
       "      <td>1421.00</td>\n",
       "      <td>7095.50</td>\n",
       "      <td>12771.90</td>\n",
       "      <td>1425.572253</td>\n",
       "      <td>7150.267430</td>\n",
       "      <td>12240.368253</td>\n",
       "    </tr>\n",
       "    <tr>\n",
       "      <th>90</th>\n",
       "      <td>30</td>\n",
       "      <td>18490</td>\n",
       "      <td>1429.90</td>\n",
       "      <td>7130.00</td>\n",
       "      <td>12798.90</td>\n",
       "      <td>1433.130122</td>\n",
       "      <td>7186.767430</td>\n",
       "      <td>12306.068253</td>\n",
       "    </tr>\n",
       "    <tr>\n",
       "      <th>91</th>\n",
       "      <td>32</td>\n",
       "      <td>19144</td>\n",
       "      <td>831.10</td>\n",
       "      <td>4150.50</td>\n",
       "      <td>7371.00</td>\n",
       "      <td>988.911087</td>\n",
       "      <td>4185.010898</td>\n",
       "      <td>7286.775606</td>\n",
       "    </tr>\n",
       "    <tr>\n",
       "      <th>92</th>\n",
       "      <td>25</td>\n",
       "      <td>19318</td>\n",
       "      <td>937.44</td>\n",
       "      <td>4592.50</td>\n",
       "      <td>8239.50</td>\n",
       "      <td>1082.241087</td>\n",
       "      <td>4646.104369</td>\n",
       "      <td>7940.276112</td>\n",
       "    </tr>\n",
       "  </tbody>\n",
       "</table>\n",
       "<p>93 rows × 8 columns</p>\n",
       "</div>"
      ],
      "text/plain": [
       "    index  total  quantile_loss_rf_p10  quantile_loss_rf_p50  \\\n",
       "0      83   4416               6111.00               3402.50   \n",
       "1      49   4662               5906.70               3307.50   \n",
       "2      62   5158               5443.20               3059.50   \n",
       "3      55   5327               5148.90               2907.75   \n",
       "4      76   5371               5741.10               3227.50   \n",
       "..    ...    ...                   ...                   ...   \n",
       "88     31  18251                817.50               4082.50   \n",
       "89     23  18417               1421.00               7095.50   \n",
       "90     30  18490               1429.90               7130.00   \n",
       "91     32  19144                831.10               4150.50   \n",
       "92     25  19318                937.44               4592.50   \n",
       "\n",
       "    quantile_loss_rf_p90  quantile_loss_gb_p10  quantile_loss_gb_p50  \\\n",
       "0                 682.30           5527.477918           3363.482058   \n",
       "1                 677.80           4867.543682           3297.686461   \n",
       "2                 621.40           4996.567918           3025.633233   \n",
       "3                 590.93           4151.483218           2907.982058   \n",
       "4                 654.30           5777.743091           3165.559456   \n",
       "..                   ...                   ...                   ...   \n",
       "88               7279.20            975.541087           3975.851413   \n",
       "89              12771.90           1425.572253           7150.267430   \n",
       "90              12798.90           1433.130122           7186.767430   \n",
       "91               7371.00            988.911087           4185.010898   \n",
       "92               8239.50           1082.241087           4646.104369   \n",
       "\n",
       "    quantile_loss_gb_p90  \n",
       "0             700.305047  \n",
       "1             681.633370  \n",
       "2             630.003093  \n",
       "3             597.498095  \n",
       "4             648.612705  \n",
       "..                   ...  \n",
       "88           6979.976112  \n",
       "89          12240.368253  \n",
       "90          12306.068253  \n",
       "91           7286.775606  \n",
       "92           7940.276112  \n",
       "\n",
       "[93 rows x 8 columns]"
      ]
     },
     "execution_count": 163,
     "metadata": {},
     "output_type": "execute_result"
    }
   ],
   "source": [
    "overall_loss_comparison = pred_quantile_losses[~pred_quantile_losses['quantile_loss_rf_p10'].isnull()].sort_values('total').reset_index()\n",
    "overall_loss_comparison"
   ]
  },
  {
   "cell_type": "code",
   "execution_count": 177,
   "id": "0790e15f",
   "metadata": {
    "ExecuteTime": {
     "end_time": "2022-09-26T04:44:28.170442Z",
     "start_time": "2022-09-26T04:44:28.149442Z"
    },
    "scrolled": true
   },
   "outputs": [
    {
     "data": {
      "text/plain": [
       "[137161.62000000005, 268698.75, 393109.7400000001]"
      ]
     },
     "execution_count": 177,
     "metadata": {},
     "output_type": "execute_result"
    }
   ],
   "source": [
    "pred_quantile_loss_rf_p10 = sum(overall_loss_comparison['quantile_loss_rf_p10'])\n",
    "pred_quantile_loss_rf_p50 = sum(overall_loss_comparison['quantile_loss_rf_p50'])\n",
    "pred_quantile_loss_rf_p90 = sum(overall_loss_comparison['quantile_loss_rf_p90'])\n",
    "pred_quantile_loss_rf = [pred_quantile_loss_rf_p10,pred_quantile_loss_rf_p50,pred_quantile_loss_rf_p90]\n",
    "pred_quantile_loss_rf"
   ]
  },
  {
   "cell_type": "code",
   "execution_count": 180,
   "id": "48b9cbbd",
   "metadata": {
    "ExecuteTime": {
     "end_time": "2022-09-26T04:46:30.649040Z",
     "start_time": "2022-09-26T04:46:30.633413Z"
    }
   },
   "outputs": [
    {
     "data": {
      "text/plain": [
       "[123437.12364223276, 268145.26463089866, 388215.14614026423]"
      ]
     },
     "execution_count": 180,
     "metadata": {},
     "output_type": "execute_result"
    }
   ],
   "source": [
    "pred_quantile_loss_gb_p10 = sum(overall_loss_comparison['quantile_loss_gb_p10'])\n",
    "pred_quantile_loss_gb_p50 = sum(overall_loss_comparison['quantile_loss_gb_p50'])\n",
    "pred_quantile_loss_gb_p90 = sum(overall_loss_comparison['quantile_loss_gb_p90'])\n",
    "pred_quantile_loss_gb = [pred_quantile_loss_gb_p10,pred_quantile_loss_gb_p50,pred_quantile_loss_gb_p90]\n",
    "pred_quantile_loss_gb"
   ]
  },
  {
   "cell_type": "code",
   "execution_count": 183,
   "id": "1581080a",
   "metadata": {
    "ExecuteTime": {
     "end_time": "2022-09-26T04:47:41.771957Z",
     "start_time": "2022-09-26T04:47:41.754993Z"
    }
   },
   "outputs": [
    {
     "data": {
      "text/html": [
       "<div>\n",
       "<style scoped>\n",
       "    .dataframe tbody tr th:only-of-type {\n",
       "        vertical-align: middle;\n",
       "    }\n",
       "\n",
       "    .dataframe tbody tr th {\n",
       "        vertical-align: top;\n",
       "    }\n",
       "\n",
       "    .dataframe thead th {\n",
       "        text-align: right;\n",
       "    }\n",
       "</style>\n",
       "<table border=\"1\" class=\"dataframe\">\n",
       "  <thead>\n",
       "    <tr style=\"text-align: right;\">\n",
       "      <th></th>\n",
       "      <th>pred_quantile_loss_rf</th>\n",
       "      <th>pred_quantile_loss_gb</th>\n",
       "    </tr>\n",
       "  </thead>\n",
       "  <tbody>\n",
       "    <tr>\n",
       "      <th>0.1</th>\n",
       "      <td>137161.62</td>\n",
       "      <td>123437.123642</td>\n",
       "    </tr>\n",
       "    <tr>\n",
       "      <th>0.5</th>\n",
       "      <td>268698.75</td>\n",
       "      <td>268145.264631</td>\n",
       "    </tr>\n",
       "    <tr>\n",
       "      <th>0.9</th>\n",
       "      <td>393109.74</td>\n",
       "      <td>388215.146140</td>\n",
       "    </tr>\n",
       "  </tbody>\n",
       "</table>\n",
       "</div>"
      ],
      "text/plain": [
       "     pred_quantile_loss_rf  pred_quantile_loss_gb\n",
       "0.1              137161.62          123437.123642\n",
       "0.5              268698.75          268145.264631\n",
       "0.9              393109.74          388215.146140"
      ]
     },
     "execution_count": 183,
     "metadata": {},
     "output_type": "execute_result"
    }
   ],
   "source": [
    "pred_q_l = pd.DataFrame(pred_quantile_loss_rf,index=QUANTILES).rename(columns={0:'pred_quantile_loss_rf'})\n",
    "pred_q_l['pred_quantile_loss_gb'] = pred_quantile_loss_gb\n",
    "pred_q_l"
   ]
  },
  {
   "cell_type": "code",
   "execution_count": 191,
   "id": "f78264f9",
   "metadata": {
    "ExecuteTime": {
     "end_time": "2022-09-26T04:52:03.700019Z",
     "start_time": "2022-09-26T04:52:03.547019Z"
    }
   },
   "outputs": [
    {
     "data": {
      "image/png": "[encoded data removed]",
      "text/plain": [
       "<Figure size 432x288 with 1 Axes>"
      ]
     },
     "metadata": {
      "needs_background": "light"
     },
     "output_type": "display_data"
    }
   ],
   "source": [
    "with sns.color_palette('Blues', 1):\n",
    "    ax = pred_q_l.plot.barh()\n",
    "    plt.title('Total quantile loss', loc='left')\n",
    "    sns.despine(left=True, bottom=True)\n",
    "    plt.xlabel('Quantile loss')\n",
    "    plt.ylabel('')\n",
    "    ax.legend_.remove()"
   ]
  },
  {
   "cell_type": "code",
   "execution_count": 198,
   "id": "c8e05228",
   "metadata": {
    "ExecuteTime": {
     "end_time": "2022-09-26T05:19:59.749224Z",
     "start_time": "2022-09-26T05:19:59.596029Z"
    }
   },
   "outputs": [
    {
     "data": {
      "image/png": "[encoded data removed]",
      "text/plain": [
       "<Figure size 432x288 with 1 Axes>"
      ]
     },
     "metadata": {
      "needs_background": "light"
     },
     "output_type": "display_data"
    }
   ],
   "source": [
    "with sns.color_palette('Blues', 1):\n",
    "    ax = pred_q_l['pred_quantile_loss_rf'].plot.barh()\n",
    "    plt.title('Total quantile loss for Random Forest model', loc='left')\n",
    "    sns.despine(left=True, bottom=True)\n",
    "    plt.xlabel('Quantile loss')\n",
    "    plt.ylabel('')\n",
    "#     ax.legend_.remove()"
   ]
  },
  {
   "cell_type": "code",
   "execution_count": 199,
   "id": "26252945",
   "metadata": {
    "ExecuteTime": {
     "end_time": "2022-09-26T05:20:09.439407Z",
     "start_time": "2022-09-26T05:20:09.292125Z"
    }
   },
   "outputs": [
    {
     "data": {
      "image/png": "[encoded data removed]",
      "text/plain": [
       "<Figure size 432x288 with 1 Axes>"
      ]
     },
     "metadata": {
      "needs_background": "light"
     },
     "output_type": "display_data"
    }
   ],
   "source": [
    "with sns.color_palette('Blues', 1):\n",
    "    ax = pred_q_l['pred_quantile_loss_gb'].plot.barh()\n",
    "    plt.title('Total quantile loss for Gradient Boost Model', loc='left')\n",
    "    sns.despine(left=True, bottom=True)\n",
    "    plt.xlabel('Quantile loss')\n",
    "    plt.ylabel('')\n",
    "#     ax.legend_.remove()"
   ]
  },
  {
   "cell_type": "code",
   "execution_count": null,
   "id": "d544204e",
   "metadata": {},
   "outputs": [],
   "source": []
  }
 ],
 "metadata": {
  "kernelspec": {
   "display_name": "Python 3 (ipykernel)",
   "language": "python",
   "name": "python3"
  },
  "language_info": {
   "codemirror_mode": {
    "name": "ipython",
    "version": 3
   },
   "file_extension": ".py",
   "mimetype": "text/x-python",
   "name": "python",
   "nbconvert_exporter": "python",
   "pygments_lexer": "ipython3",
   "version": "3.9.7"
  },
  "toc": {
   "base_numbering": 1,
   "nav_menu": {},
   "number_sections": true,
   "sideBar": true,
   "skip_h1_title": false,
   "title_cell": "Table of Contents",
   "title_sidebar": "Contents",
   "toc_cell": false,
   "toc_position": {
    "height": "calc(100% - 180px)",
    "left": "10px",
    "top": "150px",
    "width": "263.797px"
   },
   "toc_section_display": true,
   "toc_window_display": true
  }
 },
 "nbformat": 4,
 "nbformat_minor": 5
}
